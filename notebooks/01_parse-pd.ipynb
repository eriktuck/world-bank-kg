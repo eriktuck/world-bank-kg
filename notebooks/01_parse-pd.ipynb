{
 "cells": [
  {
   "cell_type": "markdown",
   "id": "be511d3b",
   "metadata": {},
   "source": [
    "## Parse PDF\n",
    "Tools for parsing PDFs have come a long way in the past couple years, and new tools are emerging almost daily. This notebook explores a handfull of libraries for suitability for our task. We are seeking a library that can return a high fidelity representation of a variety of PDF formats, including PDFs with complex layouts, tables and images. A more verbose review of available libraries is available on my [knowledge base](https://io.eriktuck.com/base/parse+pdf)."
   ]
  },
  {
   "cell_type": "code",
   "execution_count": null,
   "id": "7ef31260",
   "metadata": {},
   "outputs": [
    {
     "name": "stderr",
     "output_type": "stream",
     "text": [
      "/home/erikt/_dev/world-bank-kg/.venv/lib/python3.12/site-packages/tqdm/auto.py:21: TqdmWarning: IProgress not found. Please update jupyter and ipywidgets. See https://ipywidgets.readthedocs.io/en/stable/user_install.html\n",
      "  from .autonotebook import tqdm as notebook_tqdm\n"
     ]
    }
   ],
   "source": [
    "from io import BytesIO\n",
    "import os\n",
    "\n",
    "import requests"
   ]
  },
  {
   "cell_type": "code",
   "execution_count": null,
   "id": "f712107a",
   "metadata": {},
   "outputs": [],
   "source": [
    "def download_pdf(url):\n",
    "    \"\"\"Download PDF from a URL and return it as bytes.\"\"\"\n",
    "    response = requests.get(url)\n",
    "    if response.status_code != 200:\n",
    "        raise Exception(f\"Failed to download {url}\")\n",
    "    return BytesIO(response.content)\n",
    "\n",
    "def group_into_windows(chunks, window_size=3, overlap=1):\n",
    "    \"\"\"Group chunks into sliding windows with optional overlap.\"\"\"\n",
    "    grouped = []\n",
    "    i = 0\n",
    "    while i < len(chunks):\n",
    "        group = chunks[i:i + window_size]\n",
    "        grouped.append(\"\\n\\n\".join(group))\n",
    "        i += window_size - overlap\n",
    "    return grouped\n",
    "\n",
    "def save_to_markdown(grouped_chunks, output_path):\n",
    "    \"\"\"Save grouped chunks to a markdown file.\"\"\"\n",
    "    with open(output_path, \"w\", encoding=\"utf-8\") as f:\n",
    "        for i, group in enumerate(grouped_chunks, 1):\n",
    "            f.write(f\"## Chunk {i}\\n\\n{group}\\n\\n---\\n\\n\")\n"
   ]
  },
  {
   "cell_type": "markdown",
   "id": "238d9833",
   "metadata": {},
   "source": [
    "Partition and Chunk from url"
   ]
  },
  {
   "cell_type": "code",
   "execution_count": 77,
   "id": "a7b4bae8",
   "metadata": {},
   "outputs": [
    {
     "name": "stderr",
     "output_type": "stream",
     "text": [
      "INFO: Reading PDF for file: /tmp/tmpnqwkkw1g/document.pdf ...\n",
      "INFO: Loading the Table agent ...\n",
      "The `max_size` parameter is deprecated and will be removed in v4.26. Please specify in `size['longest_edge'] instead`.\n",
      "INFO: Loading the table structure model ...\n",
      "INFO: Loading pretrained weights from Hugging Face hub (timm/resnet18.a1_in1k)\n",
      "INFO: [timm/resnet18.a1_in1k] Safe alternative available for 'pytorch_model.bin' (as 'model.safetensors'). Loading weights using safetensors.\n",
      "INFO: Missing keys (fc.weight, fc.bias) discovered while loading pretrained weights. This is expected if model is being adapted.\n"
     ]
    }
   ],
   "source": [
    "from unstructured.partition.auto import partition\n",
    "from unstructured.staging.base import elements_to_json\n",
    "from unstructured.chunking.title import chunk_by_title\n",
    "\n",
    "pdf_url = \"https://documents1.worldbank.org/curated/en/995361468056343658/pdf/529200PAD0P0801for0disclosure0final.pdf\"\n",
    "base_output_name = \"unstructured_output\"\n",
    "\n",
    "# pdf_bytes = download_pdf(pdf_url)\n",
    "# elements = partition_pdf(url=pdf_url, infer_table_structure=True, strategy=\"hi_res\", languages=[\"eng\"])\n",
    "elements = partition(url=pdf_url, infer_table_structure=True, strategy=\"hi_res\", languages=[\"eng\"])\n",
    "\n",
    "elements_to_json(elements=elements, filename=f\"{base_output_name}.json\")\n",
    "\n",
    "chunks = chunk_by_title(elements)\n",
    "\n",
    "with open(f'{base_output_name}.md', \"w\", encoding=\"utf-8\") as f:\n",
    "    for i, chunk in enumerate(chunks, 1):\n",
    "        f.write(f\"## Chunk {i}\\n\\n{chunk}\\n\\n---\\n\\n\")"
   ]
  },
  {
   "cell_type": "markdown",
   "id": "c6ab29d5",
   "metadata": {},
   "source": [
    "Patition and Chunk locally (to test for differences in approaches, if any)"
   ]
  },
  {
   "cell_type": "code",
   "execution_count": 6,
   "id": "eb7a060d",
   "metadata": {},
   "outputs": [
    {
     "name": "stdout",
     "output_type": "stream",
     "text": [
      "Warning: No languages specified, defaulting to English.\n"
     ]
    }
   ],
   "source": [
    "from unstructured.partition.pdf import partition_pdf\n",
    "from unstructured.staging.base import elements_to_json\n",
    "from unstructured.chunking.title import chunk_by_title\n",
    "\n",
    "pdf_fname = \"../test.pdf\"\n",
    "base_output_name = \"unstructured_output_local\"\n",
    "\n",
    "elements = partition_pdf(filename=pdf_fname, strategy=\"hi_res\")\n",
    "\n",
    "elements_to_json(elements=elements, filename=f\"{base_output_name}.json\")\n",
    "\n",
    "chunks = chunk_by_title(elements)\n",
    "\n",
    "with open(f'{base_output_name}.md', \"w\", encoding=\"utf-8\") as f:\n",
    "    for i, chunk in enumerate(chunks, 1):\n",
    "        f.write(f\"## Chunk {i}\\n\\n{chunk}\\n\\n---\\n\\n\")"
   ]
  },
  {
   "cell_type": "markdown",
   "id": "562176a6",
   "metadata": {},
   "source": [
    "## Mistral OCR"
   ]
  },
  {
   "cell_type": "code",
   "execution_count": 12,
   "id": "dd82b128",
   "metadata": {},
   "outputs": [],
   "source": [
    "import os\n",
    "from mistralai import Mistral\n",
    "from dotenv import load_dotenv\n",
    "load_dotenv(dotenv_path=\"../secrets/.env\")\n",
    "\n",
    "pdf_url = \"https://documents1.worldbank.org/curated/en/995361468056343658/pdf/529200PAD0P0801for0disclosure0final.pdf\"\n",
    "\n",
    "api_key = os.environ[\"MISTRAL_API_KEY\"]\n",
    "client = Mistral(api_key=api_key)\n",
    "\n",
    "ocr_response = client.ocr.process(\n",
    "    model=\"mistral-ocr-latest\",\n",
    "    document={\n",
    "        \"type\": \"document_url\",\n",
    "        \"document_url\": pdf_url\n",
    "    },\n",
    "    include_image_base64=True\n",
    ")"
   ]
  },
  {
   "cell_type": "code",
   "execution_count": 22,
   "id": "b116793b",
   "metadata": {},
   "outputs": [],
   "source": [
    "from pathlib import Path\n",
    "\n",
    "def save_ocr_markdown_from_pages(ocr_response, output_path: str):\n",
    "    \"\"\"Save combined markdown from Mistral OCR response to a .md file.\"\"\"\n",
    "    all_markdown = []\n",
    "\n",
    "    for page in ocr_response.pages:\n",
    "        md = getattr(page, \"markdown\", \"\").strip()\n",
    "        if md:\n",
    "            all_markdown.append(md)\n",
    "\n",
    "    full_markdown = \"\\n\\n---\\n\\n\".join(all_markdown)\n",
    "    Path(output_path).write_text(full_markdown, encoding=\"utf-8\")\n",
    "    print(f\"✅ Markdown saved to {output_path}\")\n"
   ]
  },
  {
   "cell_type": "code",
   "execution_count": 23,
   "id": "fbeacfbf",
   "metadata": {},
   "outputs": [
    {
     "name": "stdout",
     "output_type": "stream",
     "text": [
      "✅ Markdown saved to output_mistral.md\n"
     ]
    }
   ],
   "source": [
    "save_ocr_markdown_from_pages(ocr_response, \"output_mistral.md\")"
   ]
  },
  {
   "cell_type": "code",
   "execution_count": 32,
   "id": "682d262e",
   "metadata": {},
   "outputs": [],
   "source": [
    "import re\n",
    "from pathlib import Path\n",
    "\n",
    "def save_markdown_with_inline_images(ocr_response, output_path: str):\n",
    "    \"\"\"Embed base64 images inline in markdown from Mistral OCR output.\"\"\"\n",
    "    all_markdown = []\n",
    "\n",
    "    for page in ocr_response.pages:\n",
    "        markdown = getattr(page, \"markdown\", \"\")\n",
    "\n",
    "        # Build a map from image reference ID to base64-encoded string\n",
    "        image_map = {\n",
    "            img.id: img.image_base64 for img in getattr(page, \"images\", [])\n",
    "        }\n",
    "\n",
    "        # Replace all image references with inline base64\n",
    "        def replace_img(match):\n",
    "            alt_text = match.group(1)\n",
    "            img_id = match.group(2)\n",
    "            base64_data = image_map.get(img_id)\n",
    "            if base64_data:\n",
    "                return f\"![{alt_text}]({base64_data})\"\n",
    "            else:\n",
    "                return match.group(0)  # Leave unchanged if image not found\n",
    "\n",
    "        # Find markdown image syntax like ![...](img-2.jpeg)\n",
    "        markdown = re.sub(r'!\\[([^\\]]*)\\]\\((img-[\\w\\d\\-\\.]+\\.jpeg)\\)', replace_img, markdown)\n",
    "        all_markdown.append(markdown.strip())\n",
    "\n",
    "    # Combine all pages with horizontal breaks\n",
    "    full_markdown = \"\\n\\n---\\n\\n\".join(all_markdown)\n",
    "    Path(output_path).write_text(full_markdown, encoding=\"utf-8\")\n",
    "    print(f\"✅ Markdown with inline images saved to {output_path}\")\n"
   ]
  },
  {
   "cell_type": "code",
   "execution_count": 33,
   "id": "37e5c594",
   "metadata": {},
   "outputs": [
    {
     "name": "stdout",
     "output_type": "stream",
     "text": [
      "✅ Markdown with inline images saved to output_mistral_inline.md\n"
     ]
    }
   ],
   "source": [
    "save_markdown_with_inline_images(ocr_response, \"output_mistral_inline.md\")"
   ]
  },
  {
   "cell_type": "markdown",
   "id": "50885f04",
   "metadata": {},
   "source": [
    "## MinerU"
   ]
  },
  {
   "cell_type": "code",
   "execution_count": 39,
   "id": "9cf8421a",
   "metadata": {},
   "outputs": [],
   "source": [
    "from pathlib import Path\n",
    "import re\n",
    "from typing import List\n",
    "\n",
    "def chunk_markdown_text(path: str, max_words: int = 150, overlap: int = 30) -> List[str]:\n",
    "    \"\"\"Chunk a markdown document into overlapping windows of approximately `max_words`.\"\"\"\n",
    "    text = Path(path).read_text(encoding=\"utf-8\")\n",
    "\n",
    "    # Remove image tags and metadata (optional cleanup)\n",
    "    text = re.sub(r'!\\[.*?\\]\\(.*?\\)', '', text)\n",
    "    text = re.sub(r'---+', '', text)\n",
    "\n",
    "    # Normalize whitespace\n",
    "    text = re.sub(r'\\s+', ' ', text).strip()\n",
    "\n",
    "    words = text.split()\n",
    "    chunks = []\n",
    "    start = 0\n",
    "\n",
    "    while start < len(words):\n",
    "        end = start + max_words\n",
    "        chunk = \" \".join(words[start:end])\n",
    "        chunks.append(chunk)\n",
    "        start += max_words - overlap  # shift window with overlap\n",
    "\n",
    "    return chunks"
   ]
  },
  {
   "cell_type": "code",
   "execution_count": 40,
   "id": "76e4fb59",
   "metadata": {},
   "outputs": [
    {
     "name": "stdout",
     "output_type": "stream",
     "text": [
      "🔹 183 chunks created\n",
      "Document of The World Bank # FOR OFFICIAL USE ONLY Report No: 52920-MX PROJECT APPRAISAL DOCUMENT<br>ON A<br>PROPOSED PURCHASE OF EMISSIONS REDUCTIONS<br>BY THE SPANISH CARBON FUND AND THE BIO CARBON FUND<br>IN THE AMOUNT OF<br>US\\$ 17,473,211<br>FROM THE<br>COMISION FEDERAL DE ELECTRICIDAD (MEXICO)<br>FOR THE<br>WIND UMBRELLA (LA VENTA II) PROJECT April 24, 2006 This document has a restricted distribution and may be used by recipients only in the performance of their official duties. Its contents may not otherwise be disclosed without World Bank authorization. # CURRENCY EQUIVALENTS (Exchange Rate Effective \\{January 2006\\}) Currency Unit $=$ Mexican Peso 1 Mexican Peso $=$ US $\\$ 0.095$ $$ 1 \\mathrm{US} \\$=0.7916 € $$ FISCAL YEAR January 1 - December 31 ## ABBREVIATIONS AND ACRONYMS BLT Build-Lease-Transfer BM Build Margin emission factor BOT Build-Operate-Transfer CAS Country Assistance Strategy CDM Clean Development Mechanism CENACE National Center of Energy Control (Centro Nacional de Control de Energía) CER Certified Emissions Reduction CFE\n"
     ]
    }
   ],
   "source": [
    "chunks = chunk_markdown_text(\"output_mistral_inline.md\", max_words=150, overlap=30)\n",
    "print(f\"🔹 {len(chunks)} chunks created\")\n",
    "print(chunks[0])"
   ]
  },
  {
   "cell_type": "code",
   "execution_count": 41,
   "id": "776bfbd8",
   "metadata": {},
   "outputs": [],
   "source": [
    "from keybert import KeyBERT\n",
    "from typing import List\n",
    "\n",
    "def extract_keywords_from_chunks(chunks: List[str], top_n: int = 5, diversity: float = 0.5):\n",
    "    model = KeyBERT(model=\"all-MiniLM-L6-v2\")\n",
    "\n",
    "    all_keywords = []\n",
    "    for i, chunk in enumerate(chunks):\n",
    "        keywords = model.extract_keywords(\n",
    "            chunk,\n",
    "            keyphrase_ngram_range=(1, 3),\n",
    "            stop_words=\"english\",\n",
    "            use_mmr=True,\n",
    "            diversity=diversity,\n",
    "            top_n=top_n\n",
    "        )\n",
    "        all_keywords.append({\n",
    "            \"chunk_index\": i,\n",
    "            \"text\": chunk[:200] + \"...\",\n",
    "            \"keywords\": [kw[0] for kw in keywords]\n",
    "        })\n",
    "    \n",
    "    return all_keywords"
   ]
  },
  {
   "cell_type": "code",
   "execution_count": 42,
   "id": "33496d2d",
   "metadata": {},
   "outputs": [
    {
     "data": {
      "text/html": [
       "<div>\n",
       "<style scoped>\n",
       "    .dataframe tbody tr th:only-of-type {\n",
       "        vertical-align: middle;\n",
       "    }\n",
       "\n",
       "    .dataframe tbody tr th {\n",
       "        vertical-align: top;\n",
       "    }\n",
       "\n",
       "    .dataframe thead th {\n",
       "        text-align: right;\n",
       "    }\n",
       "</style>\n",
       "<table border=\"1\" class=\"dataframe\">\n",
       "  <thead>\n",
       "    <tr style=\"text-align: right;\">\n",
       "      <th></th>\n",
       "      <th>chunk_index</th>\n",
       "      <th>text</th>\n",
       "      <th>keywords</th>\n",
       "    </tr>\n",
       "  </thead>\n",
       "  <tbody>\n",
       "    <tr>\n",
       "      <th>0</th>\n",
       "      <td>0</td>\n",
       "      <td>Document of The World Bank # FOR OFFICIAL USE ...</td>\n",
       "      <td>[currency unit mexican, fund bio carbon, recip...</td>\n",
       "    </tr>\n",
       "    <tr>\n",
       "      <th>1</th>\n",
       "      <td>1</td>\n",
       "      <td>Margin emission factor BOT Build-Operate-Trans...</td>\n",
       "      <td>[mexican national grid, operating margin emiss...</td>\n",
       "    </tr>\n",
       "    <tr>\n",
       "      <th>2</th>\n",
       "      <td>2</td>\n",
       "      <td>Value OM Operating Margin emission factor O\\&amp;M...</td>\n",
       "      <td>[mexican petroleum petróleos, impact budgetary...</td>\n",
       "    </tr>\n",
       "    <tr>\n",
       "      <th>3</th>\n",
       "      <td>3</td>\n",
       "      <td>President: | Pamela Cox | | :--: | :--: | | Co...</td>\n",
       "      <td>[bank spanish carbon, health project financing...</td>\n",
       "    </tr>\n",
       "    <tr>\n",
       "      <th>4</th>\n",
       "      <td>4</td>\n",
       "      <td>Loan [ ] Credit [ ] Grant [ ] Guarantee [X] Ot...</td>\n",
       "      <td>[spanish carbon fund, loans credits, cfe estim...</td>\n",
       "    </tr>\n",
       "    <tr>\n",
       "      <th>...</th>\n",
       "      <td>...</td>\n",
       "      <td>...</td>\n",
       "      <td>...</td>\n",
       "    </tr>\n",
       "    <tr>\n",
       "      <th>178</th>\n",
       "      <td>178</td>\n",
       "      <td>| | Current budget balance | -1.2 | 3.3 | 2.2 ...</td>\n",
       "      <td>[export price index, imports cif 15, fuel ener...</td>\n",
       "    </tr>\n",
       "    <tr>\n",
       "      <th>179</th>\n",
       "      <td>179</td>\n",
       "      <td>| Capital goods | 2,573 | 12,322 | 20,208 | 22...</td>\n",
       "      <td>[2004 exports goods, balance payments millions...</td>\n",
       "    </tr>\n",
       "    <tr>\n",
       "      <th>180</th>\n",
       "      <td>180</td>\n",
       "      <td>| -10,076 | -12,012 | -12,082 | -10,938 | | Ne...</td>\n",
       "      <td>[reserves including gold, net current transfer...</td>\n",
       "    </tr>\n",
       "    <tr>\n",
       "      <th>181</th>\n",
       "      <td>181</td>\n",
       "      <td>| | Total debt outstanding and disbursed | 94,...</td>\n",
       "      <td>[total debt service, foreign direct investment...</td>\n",
       "    </tr>\n",
       "    <tr>\n",
       "      <th>182</th>\n",
       "      <td>182</td>\n",
       "      <td>direct investment (net inflows) | 390 | 10,973...</td>\n",
       "      <td>[investment net inflows, maps mexico, ii, 268 ...</td>\n",
       "    </tr>\n",
       "  </tbody>\n",
       "</table>\n",
       "<p>183 rows × 3 columns</p>\n",
       "</div>"
      ],
      "text/plain": [
       "     chunk_index                                               text  \\\n",
       "0              0  Document of The World Bank # FOR OFFICIAL USE ...   \n",
       "1              1  Margin emission factor BOT Build-Operate-Trans...   \n",
       "2              2  Value OM Operating Margin emission factor O\\&M...   \n",
       "3              3  President: | Pamela Cox | | :--: | :--: | | Co...   \n",
       "4              4  Loan [ ] Credit [ ] Grant [ ] Guarantee [X] Ot...   \n",
       "..           ...                                                ...   \n",
       "178          178  | | Current budget balance | -1.2 | 3.3 | 2.2 ...   \n",
       "179          179  | Capital goods | 2,573 | 12,322 | 20,208 | 22...   \n",
       "180          180  | -10,076 | -12,012 | -12,082 | -10,938 | | Ne...   \n",
       "181          181  | | Total debt outstanding and disbursed | 94,...   \n",
       "182          182  direct investment (net inflows) | 390 | 10,973...   \n",
       "\n",
       "                                              keywords  \n",
       "0    [currency unit mexican, fund bio carbon, recip...  \n",
       "1    [mexican national grid, operating margin emiss...  \n",
       "2    [mexican petroleum petróleos, impact budgetary...  \n",
       "3    [bank spanish carbon, health project financing...  \n",
       "4    [spanish carbon fund, loans credits, cfe estim...  \n",
       "..                                                 ...  \n",
       "178  [export price index, imports cif 15, fuel ener...  \n",
       "179  [2004 exports goods, balance payments millions...  \n",
       "180  [reserves including gold, net current transfer...  \n",
       "181  [total debt service, foreign direct investment...  \n",
       "182  [investment net inflows, maps mexico, ii, 268 ...  \n",
       "\n",
       "[183 rows x 3 columns]"
      ]
     },
     "execution_count": 42,
     "metadata": {},
     "output_type": "execute_result"
    }
   ],
   "source": [
    "import pandas as pd\n",
    "results = extract_keywords_from_chunks(chunks, top_n=5, diversity=0.7)\n",
    "df_keywords = pd.DataFrame(results)\n",
    "df_keywords"
   ]
  },
  {
   "cell_type": "markdown",
   "id": "8685a68a",
   "metadata": {},
   "source": [
    "## Unstructured with LangChain"
   ]
  },
  {
   "cell_type": "code",
   "execution_count": 45,
   "id": "ed3e31fc",
   "metadata": {},
   "outputs": [
    {
     "name": "stderr",
     "output_type": "stream",
     "text": [
      "INFO: Reading PDF for file: /tmp/tmpxniqezi4/document.pdf ...\n"
     ]
    },
    {
     "name": "stdout",
     "output_type": "stream",
     "text": [
      "Warning: No languages specified, defaulting to English.\n"
     ]
    }
   ],
   "source": [
    "from langchain_unstructured import UnstructuredLoader\n",
    "\n",
    "pdf_fname = \"../test.pdf\"\n",
    "\n",
    "loader_local = UnstructuredLoader(\n",
    "    web_url=pdf_url,\n",
    "    strategy=\"hi_res\",\n",
    ")\n",
    "pages = []\n",
    "for doc in loader_local.lazy_load():\n",
    "    pages.append(doc)"
   ]
  },
  {
   "cell_type": "code",
   "execution_count": 63,
   "id": "fb8490ab",
   "metadata": {},
   "outputs": [
    {
     "name": "stderr",
     "output_type": "stream",
     "text": [
      "INFO: Reading PDF for file: /tmp/tmpf2xxso5x/document.pdf ...\n"
     ]
    },
    {
     "name": "stdout",
     "output_type": "stream",
     "text": [
      "Warning: No languages specified, defaulting to English.\n"
     ]
    },
    {
     "name": "stderr",
     "output_type": "stream",
     "text": [
      "/tmp/ipykernel_52766/2580436936.py:19: LangChainDeprecationWarning: The class `LLMChain` was deprecated in LangChain 0.1.17 and will be removed in 1.0. Use :meth:`~RunnableSequence, e.g., `prompt | llm`` instead.\n",
      "  summary_chain = LLMChain(llm=llm, prompt=summary_prompt)\n",
      "/tmp/ipykernel_52766/2580436936.py:21: LangChainDeprecationWarning: The method `Chain.run` was deprecated in langchain 0.1.0 and will be removed in 1.0. Use :meth:`~invoke` instead.\n",
      "  summary = summary_chain.run({\"content\": docs[0].page_content})\n",
      "INFO: HTTP Request: POST https://api.openai.com/v1/chat/completions \"HTTP/1.1 200 OK\"\n",
      "INFO: HTTP Request: POST https://api.openai.com/v1/chat/completions \"HTTP/1.1 200 OK\"\n"
     ]
    }
   ],
   "source": [
    "from langchain_unstructured import UnstructuredLoader\n",
    "from langchain.text_splitter import RecursiveCharacterTextSplitter\n",
    "from langchain_openai import ChatOpenAI\n",
    "from langchain.chains import LLMChain\n",
    "from langchain.prompts import PromptTemplate\n",
    "\n",
    "load_dotenv(dotenv_path=\"../secrets/.env\")\n",
    "\n",
    "loader = UnstructuredLoader(\n",
    "    web_url=pdf_url,\n",
    "    strategy=\"hi_res\",\n",
    ")\n",
    "docs = loader.load()\n"
   ]
  },
  {
   "cell_type": "code",
   "execution_count": 68,
   "id": "851086c2",
   "metadata": {},
   "outputs": [
    {
     "data": {
      "text/plain": [
       "Document(metadata={'coordinates': {'points': ((np.float64(22.416666666666668), np.float64(63.16666666666669)), (np.float64(22.416666666666668), np.float64(78.61111111111099)), (np.float64(50.19444444444444), np.float64(78.61111111111099)), (np.float64(50.19444444444444), np.float64(63.16666666666669))), 'system': 'PixelSpace', 'layout_width': 1700, 'layout_height': 2200}, 'filetype': 'application/pdf', 'languages': ['eng'], 'page_number': 1, 'url': 'https://documents1.worldbank.org/curated/en/995361468056343658/pdf/529200PAD0P0801for0disclosure0final.pdf', 'category': 'UncategorizedText', 'element_id': 'cc2e446cc861bbd1ef64169433b56250'}, page_content='d')"
      ]
     },
     "execution_count": 68,
     "metadata": {},
     "output_type": "execute_result"
    }
   ],
   "source": [
    "docs[0]"
   ]
  },
  {
   "cell_type": "code",
   "execution_count": null,
   "id": "be2dcc92",
   "metadata": {},
   "outputs": [],
   "source": [
    "\n",
    "# Step 2: Summarize\n",
    "llm = ChatOpenAI(model_name=\"gpt-4o\")\n",
    "summary_prompt = PromptTemplate.from_template(\"Summarize the document:\\n\\n{content}\")\n",
    "summary_chain = LLMChain(llm=llm, prompt=summary_prompt)\n",
    "\n",
    "summary = summary_chain.run({\"content\": docs[0].page_content})\n",
    "\n",
    "# Step 3: Extract keywords\n",
    "keyword_prompt = PromptTemplate.from_template(\"Extract keywords:\\n\\n{content}\")\n",
    "keywords = LLMChain(llm=llm, prompt=keyword_prompt).run({\"content\": docs[0].page_content})\n",
    "\n",
    "# Step 4: Chunking\n",
    "splitter = RecursiveCharacterTextSplitter(chunk_size=500, chunk_overlap=100)\n",
    "chunks = splitter.split_documents(docs)"
   ]
  },
  {
   "cell_type": "code",
   "execution_count": 70,
   "id": "03dfb947",
   "metadata": {},
   "outputs": [
    {
     "data": {
      "text/plain": [
       "\"Document of \\nThe World Bank \\n \\nFOR OFFICIAL USE ONLY \\n \\nReport No: 52920-MX  \\n \\n \\n \\n \\nPROJECT APPRAISAL DOCUMENT \\n \\nON A \\n \\nPROPOSED PURCHASE OF EMISSIONS REDUCTIONS \\n \\nBY THE SPANISH CARBON FUND AND THE BIO CARBON FUND \\n \\nIN THE AMOUNT OF  \\nUS$ 17,473,211 \\n \\nFROM THE \\n \\nCOMISION FEDERAL DE ELECTRICIDAD \\n(MEXICO) \\n \\nFOR THE \\n \\nWIND UMBRELLA (LA VENTA II) PROJECT \\n \\n \\nApril 24, 2006 \\n \\n \\nThis document has a restricted distribution and may be used by recipients only in the \\nperformance of their official duties.  Its contents may not otherwise be disclosed without World \\nBank authorization. \\n \\nPublic Disclosure Authorized\\nPublic Disclosure Authorized\\nPublic Disclosure Authorized\\nPublic Disclosure Authorized\\nPublic Disclosure Authorized\\nPublic Disclosure Authorized\\nPublic Disclosure Authorized\\nPublic Disclosure Authorized\\n\\nCURRENCY EQUIVALENTS \\n \\n(Exchange Rate Effective {January 2006}) \\nCurrency Unit = Mexican Peso \\n1 Mexican Peso  = US$ 0.095 \\n  \\n \\n1 US$ = 0.7916 € \\n \\nFISCAL YEAR \\nJanuary 1 \\n– \\nDecember 31 \\n \\n \\nABBREVIATIONS AND ACRONYMS  \\n \\nBLT \\nBuild-Lease-Transfer \\nBM \\nBuild Margin emission factor \\nBOT \\nBuild-Operate-Transfer \\nCAS \\nCountry Assistance Strategy \\nCDM \\nClean Development Mechanism \\nCENACE \\nNational Center of Energy Control (Centro Nacional de Control de Energía) \\nCER \\nCertified Emissions Reduction \\nCFE \\nNational Electric Commission (Comisión Nacional de Electricidad) \\nCM \\nCombined Margin emission factor \\nCO2 \\nCarbon Dioxide \\nCO2e \\nCarbon Dioxide equivalent \\nDOE \\nDesignated Operational Entity \\nEMP \\nEnvironmental Management Plan \\nER \\nEmissions Reduction \\nERPA \\nEmissions Reduction Purchase Agreement \\nGEF \\nGlobal Environment Facility \\nGoM \\nGovernment of Mexico \\nGHG \\nGreenhouse Gas \\nGW \\nGigawatt  \\nGWh \\nGigawatthour \\nIMNG \\nInterconnected Mexican National Grid \\nINEGI \\nNational Institute of Statistics, Geography and Computer Science  \\n(Instituto Nacional de Estadística, Geografía e Informática) \\nIPER \\nInfrastructure Public Expenditure Review \\nIPP \\nIndependent Power Producers \\nIRR \\nInternal Rate of Return \\nMW \\nMegawatt \\nNPV \\nNet Present Value \\nOM \\nOperating Margin emission factor \\nO&M \\nOperation and Maintenance \\nOPF \\nPublicly Finance Works (Obra Pública Financiada) \\nPEMEX \\nMexican Petroleum (Petróleos Mexicanos) \\nPIDIREGAS \\nProjects with Deferred Impact in the Budgetary Registry  \\n(Proyectos de Impacto Diferido en el Registro de Gasto)\\n\\nSEMARNAT \\nMinistry of the Environment and Natural Resources  (Secretaria de Medio Ambiente y \\nRecursos Naturales) \\nSENER \\nMinistry of Energy (Secretaría de Energía) \\nSHCP \\nMinstry of Finance and Public Credit (Secretaría de Hacienda y Crédito Público) \\ntCO2e \\nMetric tons of Carbon Dioxide equivalent \\nUNFCCC \\nUnited National Framework Convention on Climate Change \\nVER \\nVerified Emission Reductions \\n \\n \\n \\nVice President:  \\nPamela Cox \\nCountry Manager/Director:  \\nIsabel Guerrero \\nSector Manager:  \\nSusan Goldmark \\nTask Team Leader:  \\nDemetrios Papathanasiou\\n\\nMEXICO \\nWind Umbrella (La Venta II) \\n \\nPROJECT APPRAISAL DOCUMENT \\nLATIN AMERICA AND CARIBBEAN \\nLCSEG \\n \\nDate: April 24, 2006     \\nCountry Director: Isabel Guerrero \\nSector Manager: Susan Goldmark \\nProject ID: P080104 \\nLending Instrument: World Bank Spanish Carbon \\nFund \\nTeam Leader: Demetrios Papathanasiou        \\nSectors: Renewable Energy (100%) \\nEnvironmental Screening Category: B \\nThemes: Climate Change (P); Pollution management \\nand environmental health (S) \\nProject Financing Data: \\n[ ] Loan     [ ] Credit     [ ] Grant     [ ] Guarantee     [X] Other: Carbon Finance \\nFor Loans/Credits/Others: The project does not involve Bank financing. Total Bank Carbon Financing through \\nthe purchase of CERs for an amount of USD 17.5 Million.  \\nFinancing Plan (USDm.) \\nSource \\nLocal \\nForeign \\nTotal \\nSpanish Carbon Fund (SCF) \\nBio Carbon Fund (BCF) \\nProject Sponsor (CFE) \\n \\n \\n8,735,000 \\n16,663,211 \\n1,215,000 \\n105,130,000 \\n16,663,211 \\n1,215,000 \\n113,865,000 \\nTOTAL \\n8,735,000 \\n123,008,211 \\n131,743,211 \\nResponsible Agency: Comisión Federal de Electricidad (CFE) \\nEstimated payments (Bank FY/USD) \\nThe Bank plans to purchase Emissions Reductions (ERs) for an amount of EUR 17.5 Million. Indicatively, this \\ncould lead to payments as in the following schedule:  \\nFY/EUR \\n2007 \\n2008 \\n2009 \\n2010 \\n2011 \\n2012 \\n2013 \\n2014 \\nAnnual \\n1,625,821 \\n1,625,821 \\n1,625,821 \\n1,625,821 \\n1,625,821 \\n1,625,821 \\n1,625,821 \\n1,625,821 \\nCumulative \\n1,625,821 \\n3,251,642  \\n \\n4,877,463  \\n \\n6,503,284  \\n \\n8,129,106  \\n \\n9,754,927  \\n \\n11,380,748  \\n \\n13,006,569  \\n \\nFY/EUR \\n2015 \\n2016 \\n2017 \\n2018 \\n2019 \\n \\n \\n \\nAnnual \\n1,625,821 \\n1,625,821 \\n405,000 \\n405,000 \\n405,000 \\n \\n \\n \\nCumulative \\n14,632,390  \\n \\n16,258,211  \\n \\n16,663,211  \\n \\n17,068,211  \\n \\n17,473,211  \\n \\n \\n \\n \\nProject implementation period: 2007–2019 (this is the period for the duration of the ERPA (Emissions Reduction \\nPurchase Agreement) with the SCF (2007-2016) and the BCF (2017-2019). However, the initial crediting period \\nis 7 years, renewable for another two 7 year-periods.  \\nExpected effectiveness date: January 2007 \\nExpected closing date: December 2019 \\nDoes the project depart from the CAS in content or other significant \\nrespects?  \\n○ Yes    ● No \\n    \\nDoes the project require any exceptions from Bank policies? \\nHave these been approved by Bank management? \\nIs approval for any policy exception sought from the Board? \\n○ Yes    ● No \\n○ Yes    ○No \\n○ Yes    ● No\\n\\nDoes the project include any critical risks rated “substantial” or \\n“high”? \\n○ Yes    ● No \\n    \\nDoes the project meet the Regional criteria for readiness for \\nimplementation? \\n● Yes    ○ No \\n \\nThis document has a restricted distribution and may be used by recipients only in the performance of \\ntheir official duties.  Its contents may not otherwise be disclosed without World Bank authorization.\\n\\nMEXICO \\nWind Umbrella (La Venta II) \\n \\nCONTENTS \\n \\nPage \\nA. STRATEGIC CONTEXT AND RATIONALE ..................................................................... 1 \\n1. \\nCountry and sector issues.................................................................................................... 1 \\n2. \\nRationale for Bank involvement ......................................................................................... 2 \\n3. \\nHigher level objectives to which the project contributes .................................................... 3 \\nB. \\nPROJECT DESCRIPTION ..................................................................................................... 4 \\n1. \\nPurchase of Carbon Emissions Reductions......................................................................... 4 \\n2. \\nProject development objective and key indicators.............................................................. 4 \\n3. \\nProject components ............................................................................................................. 4 \\n4. \\nLessons learned and reflected in the project design ............................................................ 6 \\n5. \\nAlternatives considered and reasons for rejection .............................................................. 6 \\nC. \\nIMPLEMENTATION ............................................................................................................. 7 \\n1. \\nInstitutional and implementation arrangements .................................................................. 7 \\n2. \\nMonitoring and evaluation of oumes/results....................................................................... 8 \\n3. \\nSustainability and Replicability .......................................................................................... 8 \\n4. \\nCritical risks and possible controversial aspects ................................................................. 9 \\n5. \\nERPA conditions and covenants ....................................................................................... 10 \\nD. APPRAISAL SUMMARY ................................................................................................... 10 \\n1. \\nEconomic and financial analyses ...................................................................................... 10 \\n2. \\nTechnical ........................................................................................................................... 12 \\n3. \\nFiduciary ........................................................................................................................... 13 \\n4. \\nSocial................................................................................................................................. 14 \\n5. \\nEnvironment ...................................................................................................................... 14 \\n6. \\nSafeguard policies ............................................................................................................. 16 \\n7. \\nPolicy Exceptions and Readiness...................................................................................... 16\\n\\nAnnex 1: Country and Sector Background ................................................................................... 18 \\nAnnex 2: Major Related Projects Financed by the Bank and/or other Agencies .......................... 21 \\nAnnex 3: Results Framework and Monitoring.............................................................................. 22 \\nAnnex 4: Detailed Project Description ......................................................................................... 24 \\nAnnex 5: Project Costs.................................................................................................................. 29 \\nAnnex 6: Implementation Arrangements ...................................................................................... 30 \\nAnnex 7: Financial Management and Disbursement Arrangements ............................................ 32 \\nAnnex 8: Procurement Arrangements ........................................................................................... 33 \\nAnnex 9: Economic and Financial Analysis ................................................................................. 34 \\nAnnex 10: Safeguards Policy Issues ............................................................................................. 41 \\nAnnex 11: Project Preparation and Supervision ........................................................................... 48 \\nAnnex 12: Documents in the Project File ..................................................................................... 49 \\nAnnex 13: Statement of Loans and Credits .................................................................................. 50 \\nAnnex 14: Country at a Glance ..................................................................................................... 51 \\nAnnex 15: Maps ............................................................................................................................ 53\\n\\n1\\nA. STRATEGIC CONTEXT AND RATIONALE \\n \\n1. Country and sector issues \\n \\n1. \\nMexico has a good electricity system.  However, the country relies heavily on fossil fuels \\nfor power generation.  With an installed capacity of about 53 GW, an annual production of about \\n220,000 GWh, and an estimated population coverage of about 95 percent1, electricity services in \\nMexico are among the best in Latin America.  Average per capita consumption of electricity is in \\nline with the level of economic development of the country (middle-income) and has been \\ngrowing steadily.  In the last decade, electricity demand grew on average 5.2 percent per year \\nwhile at the same time economic growth was averaging about 3.5 percent annually.  The rate of \\ngrowth of demand for electricity is expected to remain at similar levels in the next few years, but \\nit could increase if the pace of economic growth accelerates2.  Significant investments in new \\ngeneration capacity will be needed in the next decade to ensure that there will be adequate supply \\nof electricity to meet the growing demand.  Growing electricity demand coupled with significant \\nthermal generation and recent trends towards high fuel prices create a need for diversification of \\nenergy supply options. \\n \\n2. \\nThe Mexican electricity sector is dominated by two state-owned companies: the Federal \\nElectricity Commission (CFE), which serves most of the Mexican territory; and Luz y Fuerza del \\nCentro (LFC), which is responsible for providing electricity services in the area of Mexico City \\nand its surroundings.  CFE is a vertically integrated electricity company that controls the \\nmajority of generation, the transmission system and energy dispatching functions, while it is also \\nresponsible for the distribution and commercialization of electricity.  LFC is primarily devoted to \\ndistribution and commercialization and owns a small part of generation.   In 1992, the Electricity \\nPublic Service Law was introduced, reducing CFE‟s legal monopoly in power generation. The \\nobjectives of the reform were to foster private participation in electricity generation, to entitle \\nopen access to the transmission grid for all participants in the sector, and to optimize short and \\nlong-term costs. \\n \\n3. \\nCFE remains today the owner of the majority of generating capacity.  However, \\nIndependent Power Producers (IPPs) are currently operating about 8.2 GW of generation --\\nmostly combined cycle plants using natural gas.  The electricity market is now a monopsony.  \\nCFE is the main buyer carrying out bidding processes to develop major electricity generation \\nprojects. These processes include Build, Lease and Transfer (BLT) projects, and (IPP) schemes. \\nThe IPP scheme is becoming increasingly important in bringing new capacity, but specific \\nconditions for the buying of electricity and responsibilities for the provision of fuel are set on a \\nproject by project basis.  Based on the corresponding law issued in 1995, the Energy Regulatory \\nCommission (CRE) issues generation permits for: (i) self-supply; (ii) cogeneration; (iii) small-\\nscale production; (iv) independent power production, and (v) permits for imports and exports.  \\nCFE retains control of the long-term planning of the electricity system and, in coordination with \\nthe Ministry of Energy (Secretaría de Energía, SENER) issues multi-year plans of expansion \\nthat direct the majority of private, or public, investments in generating capacity. \\n                                                 \\n1 Data for 2003 available from the International Energy Agency (IEA)at: http://data.iea.org/mexico \\n2 “Programa Sectorial de Energía 2001-2006”; “Prospectiva del Sector Eléctrico 2005-2014”, México 2005, \\nSecretaria de Energía –available at www.sener.gob.mx.\\n\\n2\\n4. \\nAbout 80 percent of the energy generated in Mexico is from thermal plants, although the \\ninstalled thermal capacity is about 67 percent of the total.  The remaining generation is hydro, \\nnuclear and a small percentage of other renewables including geothermal.  Oil and gas are the \\nmain fuels for the country‟s thermal plants, with coal representing a smaller percentage of the \\nfossil fuel generation.  Because a portion of the natural gas used for generation is imported from \\nthe north, generation costs have been exposed in the recent years to the spikes in natural gas \\nprices experienced in the USA market, and the recent increases in oil prices have resulted in \\nincreased economic costs for electricity generation across the system. \\n \\n5. \\nThe government of Mexico (GoM) publishes annually through SENER a ten-year plan \\nfor the expansion of the electricity system and has recognized the need to gradually increase the \\ndiversity of the fuel mix for electricity generation.  Mexico has very good potential to develop \\nalternative sources of energy and, especially in the South, the potential for wind energy is \\nconsiderable.  Nevertheless, today only a few MW of wind power are operating in the country.  \\nThe country has ratified the Kyoto Protocol, while a special law to support the promotion of \\nrenewable energy is expected in the coming months. \\n \\n2. Rationale for Bank involvement \\n \\n6. \\nThe World Bank has been supporting for a number of years the GoM in its effort to \\nfurther diversify the fuel mix for electricity generation, to improve the environmental \\nperformance in the electricity sector, and to promote renewable energy.  A number of technical \\nassistance activities3 and an upcoming Global Environment Facility (GEF) project focusing on \\nthe promotion of large-scale electricity generation using renewable sources are examples of the \\nWorld Bank‟s recent involvement in the sector. \\n \\n7. \\nThis project fits within the general framework of supporting renewable energy promotion \\nin the country, and it would be the first wind energy project in Mexico under the Clean \\nDevelopment Mechanism (CDM).  The Kyoto Protocol of the United Nations Framework \\nConvention on Climate Change (UNFCCC) has recently entered into force (February 2005). This \\ninternational agreement commits industrialized countries to reduce their carbon emissions by an \\naverage of 5.2 below their 1990 levels during the period 2008-2012. The Protocol provides for \\ntwo flexibility mechanisms for meeting these obligations - the Clean Development Mechanism \\nand Joint Implementation (JI). The CDM enables industrialized countries to meet some of their \\nobligations through the purchasing of emissions reduction from projects that generate such \\nemission reductions in developing countries (which do not have an obligation to reduce their \\nemissions under the Kyoto Protocol). \\n \\n8. \\nThe World Bank‟s involvement in the project would assist in demonstrating the potential \\nof wind energy projects to realize significant additional income related to the reduction of \\ngreenhouse gas emissions using CDM.  Income from carbon financing would assist the financial \\nviability of wind energy projects and, as the projects are implemented, it would facilitate the \\ntransfer of environmentally and economically beneficial technology to Mexico.  The World Bank \\nhas pioneered such transactions in Latin America (Colombia), and around the world \\n                                                 \\n3 A number of energy related studies funded by the Energy Sector Management Assistance Program, ESMAP, as \\nwell as energy sector activities within the Programmatic EnvSAL,\\n\\n3\\n(Philippines).  The Bank has also supported a number of CDM projects in Mexico for municipal \\nsolid waste management and their associated electricity generation projects, as well as a rapid \\ntransit system for public transportation in Mexico City.  In the proposed project to purchase \\nemissions reductions from the La Venta II wind energy project, the World Bank would assist \\nCFE to develop its capacity to identify, develop and implement projects under the CDM \\nframework.  \\n \\n9. \\nThe World Bank's involvement in carbon finance helps to ensure consistency between the \\nindividual projects it supports and the international dialogue on climate change, while providing \\nthe opportunity to mobilize global experts with experience in the field, technical support for \\nproject preparation, supervision capacity, and development of linkages with other sources of \\nexpertise and funding. By mobilizing the private and public sectors on an important new source \\nof project finance, the Carbon Finance Unit of the World Bank (ENVCF) is developing an \\nimportant knowledge base and is demonstrating how insights and experience from both sectors \\ncan be pooled to mobilize additional resources for sustainable development and address global \\nenvironmental concerns.   \\n \\n10. \\nThe World Bank‟s involvement in this project, as a trustee of the Bio Carbon Fund and \\nthe Spanish Carbon Fund, allows purchase of emissions reductions beyond 2012 using the \\nprinciples of the CDM mechanism.  This arrangement reduces the uncertainty regarding the \\nvalue of emissions reductions beyond the period mandated by the Kyoto Protocol and enhances \\nthe financial viability of the project.    \\n \\n3. Higher level objectives to which the project contributes \\n \\n11. \\nThe project would contribute to the higher level objectives of poverty reduction and \\nincreased economic growth, by promoting the diversification of energy sources in power \\ngeneration to control high electricity costs from fossil fuels.   Furthermore, the project will \\ncontribute to the objective of promoting environmental sustainability in Mexico by \\ndemonstrating the potential of carbon financing to catalyze and advance economically beneficial \\ninvestments in wind energy in Mexico. \\n \\n12. \\nThe proposed Project is consistent with the Country Assistance Strategy (CAS) which \\nproposes to support the GoM in four pillars: (i) reduce poverty and inequality; (ii) increase \\ncompetitiveness; (iii) strengthen institutions; and, (iv) promote environmental sustainability. The \\nCAS specifically mentions, under pillar (iv), that the Bank will support the GoM in its efforts to \\naddress the issue of GHG emissions. \\n13. \\nThe project is also linked to pillars (i) and (ii) because expensive electricity can hurt \\neconomic growth as it affects production costs, investments in productive activities, and \\ntherefore the overall competitiveness of the country.  Because Mexico‟s electricity system is \\npredominantly fossil-fuel based, when prices of combustibles are high the economic costs of \\npower generation increase significantly.  The recent high oil and gas prices combined with risks \\nregarding their future values, present an important challenge for the electricity sector of the \\ncountry.  The proposed Project aims to introduce an alternative, indigenous, renewable, and \\ncompetitive source of supply for electricity.  The large-scale use of wind energy for power\\n\\n4\\ngeneration could contribute in alleviating the high costs of electricity and therefore influence \\npositively the country‟s economic growth and competitiveness. \\n14. \\nUsing wind energy for electricity generation is one of the most environmentally friendly \\ntechnological options available today. Wind energy projects in Mexico would result in clear \\nenvironmental benefits for the country.  Moreover, wind energy projects would provide \\nadditional income to land-owners in rural areas because electricity plant operators pay a fee for \\nplacing the wind turbines.  Further local benefits in areas where such plants are located include \\nincreased and diverse employment opportunities. \\n \\n \\nB. PROJECT DESCRIPTION \\n \\n1. Purchase of Carbon Emissions Reductions  \\n \\n15. \\nThe proposed project will purchase a specific amount, to be agreed in the ERPA, of  \\nVerified Emissions Reductions (VERs) from the approximately 190,000 tCO2e of emissions \\nreductions that La Venta II wind power plant is expected to generate annually.  The project \\nwould reduce greenhouse gases emissions because it generates electricity using wind energy with \\nno associated GHG emissions and would replace electricity, which would otherwise be generated \\nusing fossil fuel alternatives. \\n \\n2. Project development objective and key indicators \\n \\n16. \\nThe project aims to reduce greenhouse gases emissions from power generation in Mexico \\nand promote investment in wind energy in Mexico to diversify the sources of power generation \\nin the country.  \\n \\n17. \\nThe project will contribute to the further development of the international carbon market \\nin Mexico through the supply of Emissions Reductions under the Clean Development \\nMechanism (CDM) as set forth under Article 12 of the Kyoto Protocol. The project is expected \\nto reduce about 4 million tCO2e over a 20-year operation period. Key performance indicator is \\nthe creation of VERs through the electricity generation of the power plant.  Secondary indicators \\nof success concern future operations of the same type that will appear in the country \\n(demonstration effect).   \\n \\n18. \\nThis project supports the first large-scale investment in wind energy in the country and \\nwill create experience and knowledge in the development operation and maintenance of wind \\nenergy generation facilities. \\n \\n3. Project components \\n \\nPurchase of Carbon Emissions Reductions (Total Cost: US$17,473,221) \\n \\n19. \\nCFE uses a long-term power planning simulation model (DECADES) to select future \\npower plants that are needed for the expansion of the country‟s electricity system.  On the basis\\n\\n5\\nof such modeling results it is possible to compare alternative scenarios of new generation plants \\nand estimate emissions with- and without- the wind power plants in the long term.  During the \\noperational period the actual dispatching of energy generated from the wind power plant is \\ncontrolled by the National Center for Energy Control (CENACE) and can be monitored in real \\ntime to record the amount of electricity produced from the plant and the equivalent avoided \\nemissions for verification purposes. \\n20. \\nAccording to the feasibility study, the La Venta II project consists of a wind energy \\npower plant with a nominal capacity of 83.3 MW and its associated interconnection system.  The \\nplant would provide annually about 308 GWh on average, resulting in an annual reduction of \\nGHG of about 190,000 tons of  CO2 (tCO2e).  The plant will be owned and operated by CFE and \\nwill be the first large-scale wind energy plant in Mexico, located in the Ejido La Venta, in the \\nmunicipality of Juchitán de Zaragoza, in the state of Oaxaca. \\n21. \\nThe project would reduce about 4 million tCO2e over its 20 year lifetime period.  The \\nWorld Bank would purchase on behalf of the Spanish Carbon Fund Verified Emissions \\nReductions (VER) from the project for the period 2007-2016 (total cost US$16,258,211) and on \\nbehalf of the Bio-Carbon Fund for the period 2017-2019 (total cost US$1,215,000). \\n22. \\nThe amount of VERs to be purchased annually by the World Bank is 180,000 tCO2e, for \\na total of 2.34 million tCO2e: 1.8 million tCO2e on behalf of the Spanish Carbon Fund (in a 10 \\nyear period) and 540,000 tCO2e on behalf of the Bio-Carbon Fund (in a 3 year period). The \\npurchase of VERs under this project means that the emission reductions will be verified annually \\nby an accredited organization and their statement will be transmitted to the carbon funds.  An \\nadvance payment to the sponsor will occur upon reception of the power plant from the contractor \\nresponsible for construction and the remainder will be paid annually in the period 2007-2012 \\nafter subtracting the advance payment. \\nWind Energy Power Plant and Interconnection Line (US$113,865,000)  \\n \\n23. \\nEmissions reductions will be the result of CFE‟s wind energy project to be located in the \\nejido la Venta, municipality of Juchitán de Zaragoza, a region known as the Istmo de \\nTehuantepec, state of Oaxaca.  CFE‟s wind energy project will use wind turbine generators that \\ntransform the kinetic energy of the wind to generate electricity.  The project will install 98 wind \\nturbines (Gamesa, G-52 850 kW) in four parallel lines oriented East to West, vertically to the \\nprevalent wind direction.  The engineering study provides for adequate distance between \\nindividual turbines and the turbine lines, while there is also a provision to reserve an area \\ntowards the North to ensure unobstructed wind currents to the plant.  The actual use (agricultural, \\nlivestock) of the fields where the turbines will be located will not change as the footprint of the \\nactual wind turbines and associated infrastructure (access roads, interconnection lines, etc) is \\nonly about 20 ha when the total project area is estimated to be about 1,300 ha.  CFE has entered \\ninto an agreement with the local community (Ejido La Venta) and individual landowners to pay a \\nfee (rent) for the power plant.  The project will be connected to the national grid via an \\ninterconnection line of 230 kV with a length of about 18 km along existing roads.\\n\\n6\\n24. \\nThe proposed project was selected by CFE on the basis of the exceptional wind energy \\nresource available in the region of La Venta in Oaxaca and the short-term and medium-term \\nexpansion plans of CFE.  CFE prepares its plans using simulation models (WASP and others) of \\nthe electricity system and relevant demand projections to prepare optimal expansion plans.  The \\nproposed project is a result of such a system optimization exercise.  It should be noted that \\naccording to CFE‟s planning another 300 MW of wind energy plants could be installed in the \\nsame region in the next five years.  The underlying assumption is that the demand growth in the \\nEastern part of the electricity system will be on average about 5.2  percent for the period 2004-\\n2013. \\n \\n4. Lessons learned and reflected in the project design \\n \\n25. \\nThe World Bank has been involved, initially through the GEF, and more recently using \\ncarbon finance, in a number of projects that promote renewable energy and reduce GHG \\nemissions and has supported a number of wind energy projects around the world (e.g. China, \\nColombia, Costa Rica, Philippines, and others).  These projects have demonstrated the potential \\nof carbon finance to provide additional income to power plant owners and to improve the \\nenvironmental performance of electricity systems.   \\n26. \\nLessons from such operations indicate that the availability of carbon financing is \\nimportant for the financial viability of wind energy power plants, and that when operational and \\ntechnical risks are well-managed, such projects can have an important demonstration effect to \\nfurther promote clean energy technologies as an environmentally friendly alternative to power \\ngeneration. \\n27. \\nThe project sponsor, CFE --a company with very good technical capacity-- has been \\noperating a small pilot wind power plant in the same region for about a decade and has collected \\nsignificant experience and data to ensure the management of the project‟s technical and \\noperational risks. \\n28. \\nFurthermore, CFE has developed links with the local community and has employed \\nsocial and environmental specialists to work with the local community and individual \\nlandowners to agree on a fair compensation for the use of land for wind turbines, and to educate \\npeople on the benefits of wind energy in the region.  The La Venta II project has benefited from \\na USAID-funded study on international practices regarding issues of compensation to land \\nowners, and related activities to increase the understanding among local community members on \\nthe minimal impacts to land and the environment of wind energy. \\n \\n5. Alternatives considered and reasons for rejection \\n \\n29. \\nCFE has considered alternative electricity system expansion options under its standard \\nplanning practice and the preferred solution for new electricity generation tends to be combined \\ncycle generation turbines fueled by natural gas.  However, given the volatility of natural gas \\nprices, uncertainties regarding long-term supplies, and considering also the environmental \\nbenefits of wind energy, CFE concluded that wind energy could be a viable option for additional\\n\\n7\\npower generation.  Because of prevailing high winds, and proximity to the national grid, the \\nregion of La Venta in Oaxaca was selected as an optimal location for a larger scale wind plant.   \\n30. \\nA number of alternative engineering designs and nearby sites were also considered during \\nthe pre-feasibility stage, but given the experience of CFE in the particular area since 1994 with a \\nsmaller pilot project (capacity of 1.5 MW) and its relationship with the local community the \\nproposed site was selected. \\n \\nC. IMPLEMENTATION \\n \\n1. Institutional and implementation arrangements \\n \\n31. \\nThe owner of the La Venta II wind energy power plant is CFE, which would enter in an \\nEmissions Reduction Purchase Agreement (ERPA) with the World Bank.  The Bank acts as a \\ntrustee of the Spanish Carbon Fund and the Bio-Carbon Fund for the purchase of GHG emissions \\nreductions.   \\n \\n32. \\nCFE‟s investment in the power plant is authorized by a budgetary allocation from the \\ncentral government under the scheme of Projects with Deferred Impact in the Budgetary Registry \\n(Proyectos de Impacto Diferido en el Registro de Gasto, PIDIREGAS), using the Financed \\nPublic Project (Obra Pública Financiada, OPF) modality.  Under the OPF scheme, the \\ncontractor is responsible for the construction phase, including its financing.  CFE pays fully the \\ncontractor upon satisfactory reception of the project, at which point CFE becomes the project‟s \\nowner.  CFE finances the project, under financing modalities authorized by the Ministry of \\nEconomy and Public Credit (Secretaría de Hacienda y Crédito Público, SHCP), accessing the \\nfinancial markets, or borrowing from national, or international, financial institutions.  \\n \\n33. \\nCFE has conducted international competitive bidding processes for the wind energy plant \\nand the associated interconnection line --following the country‟s norms-- for a “turn-key‟ \\ncontract that includes: detailed engineering design, procurement of equipment and materials, \\nconstruction, insurance, and training of personnel.  The contracts have been awarded to the \\nconsortium of two Spanish companies: Gamesa Eólica and Iberdrola Ingeniería y Construcción \\n(Iberinco)4.  Preliminary works on the site started in 2005, while the project is expected to be \\ncompleted and enter into operation in November 2006. \\n \\n34. \\nA letter of intention (LoI) was signed with the World Bank as a trustee of the carbon \\nfunds to purchase emissions reductions from the project and a preliminary agreement has been \\nreached for the amount of VERs, indicative prices, and payment arrangements for the purchased \\nof emissions reductions from the operation. The World Bank, on behalf of the Spanish Carbon \\nFund and the Bio-Carbon Fund, will enter into an ERPA with the project sponsor (CFE). \\n \\n35. \\nThe Clean Development Mechanism Designated National Authority for the Kyoto \\nProtocol in Mexico is the Ministry of the Environment and Natural Resources (Secretaría de \\n                                                 \\n4 The contracts awarded are published at CFE‟s website, with the numbers: 18164093-004-05 and 18164093-027-\\n04.\\n\\n8\\nMedio Ambiente y Recursos Naturales, SEMARNAT).  SEMARNAT is responsible for the \\nCDM registration of the project for Mexico and provides confirmation that the project is \\nconsistent with the country‟s overall sustainable development priorities. SEMARNAT has also \\napproved the Environmental Impact Assessment study for the project and has indicated in \\npreliminary consultations that the project qualifies for the CDM mechanism in Mexico. \\n \\n2. Monitoring and evaluation of outcomes/results \\n \\n36. \\nThe monitoring of the emissions reductions will be carried out by an accredited \\nDesignated Operational Entity (DOE), as required by the CDM rules.  The DOE is an \\nindependent entity accountable to the supervising bodies of the CDM and will be responsible for \\nvalidating the project activities and verifying the project‟s anthropogenic GHG emissions \\nreductions.  In addition, the DOE will be responsible for disclosing any potential conflict of \\ninterest arising from the project, as well as maintaining records for the validation and verification \\nof GHG emissions reductions.  This would be part of the normal validation and verification \\nprocess of the emissions reductions as required by the CDM project cycle. \\n \\n37. \\nThe ERPA includes an accompanying Monitoring Plan (MP) defining the quantity, price \\nand other delivery conditions to be purchased by the carbon funds, including the monitoring and \\nverification systems and methods.  To increase the likelihood that emissions reductions will be \\nrecognized by the parties to the Kyoto Protocol, independent experts provide baseline validation \\nand verification/certification procedures for emissions reductions.  The emissions reductions \\nestimates are based on the findings of a baseline study, validated by independent experts.  The \\nactual dispatching of the electricity generated by the wind energy plant will be monitored by the \\nregional office of CENACE in accordance with the guidelines set out in the MP.  The Baseline \\nStudy and the Monitoring Plan will be finalized during appraisal. \\n \\n38. \\nThe carbon funds will require that the DOE issues a Verification and Certification Report \\nthat includes: (i) a statement of the amount of verified emissions reductions the project has \\ngenerated during the verification period; (ii) verification of compliance with World Bank \\nsafeguard policies, and (iii) any other matters required by the Kyoto Protocol. \\n \\n3. Sustainability and Replicability \\n \\n39. \\nThe project is expected to be sustainable.  CFE has good technical capacity and its \\nimplementation plan involves training in plant maintenance for CFE personnel by the contracting \\ncompanies.  In addition, insurance and performance guarantees for the equipment have been \\nincluded in the bidding documents.   \\n \\n40. \\nPolicy and regulatory changes in Mexico are not expected to affect the overall \\nsustainability of the project. The GoM has indicated its commitment to the UNFCCC and the \\nKyoto Protocol, which creates a positive environment for additional projects of this type to be \\nimplemented in the country. \\n \\n41. \\nThe project is in compliance with the Bank‟s safeguard policies (Indigenous Peoples Plan \\nis currently finalized and will be published before appraisal) and is expected to remain so.  The\\n\\n9\\nERPAs make specific references to the environmental management plan that accompanies the \\nEnvironmental Impact Assessment as approved by SEMARNAT. \\n \\n42. \\nThe project has a significant replicability potential and the World Bank is working \\ntogether with SENER for the preparation of the GEF project “Large-scale Renewable Energy \\nDevelopment” that will further promote renewable energy. The GEF project includes a specific \\ncomponent to provide technical assistance that will allow CFE and CENACE to undertake the \\ntypes of activities necessary to better manage both intermittent and firm system resources, \\nthereby adding value to both.  The topography of the Isthmus allows for accurate short term \\nprojection of wind availability. Moreover, the relatively consistent seasonal patterns of rainfall \\nand wind availability if modeled and used appropriately can improve the ability of CENACE to \\ndispatch the large hydro plants of the nearby Chiapas region to maximize the value of both wind \\nand hydro resources. \\n \\n4. Critical risks and possible controversial aspects \\n \\nRisks \\nRisk Mitigation Measures \\nRisk \\nRating \\nRegulatory \\nand \\ninstitutional risks \\nMexico has ratified the Kyoto Protocol and is advancing policies to \\npromote renewable energy. \\nL \\nOwner and Buyer is the \\nsame entity (CFE) \\nCFE is responsible both producing and consuming the power generated \\nfor the plant.  However, monitoring of the dispatching is handled by \\nCENACE which is an internal client for the Generation unit of CFE.  \\nCENACE operates the system and monitors the power output of each \\ngeneration plant independently. \\n \\nTechnical Construction \\nRisk \\nCFE has well qualified engineers for the detailed design of the project.  \\nThe winning contractor consortium has significant experience in similar \\nprojects.  The prevailing high winds provide a narrow time frame for the \\nraising of the turbines, but this is accounted for in the construction plan.  \\nConstruction is currently under way and on track to meet the planned \\ncommissioning.   \\nL/M \\nOperational Risk  \\nThis is an area with strong \\nwinds that could challenge \\nthe operation of the \\nproject in the long-term.   \\nCFE has requested guarantees of performance through the bidding \\ndocuments, and an accompanying training program for the maintenance \\nof the turbines will be provided to CFE‟s personnel. \\nL/M \\nResource Risks \\nCFE has been operating a small pilot plant in the same area since 1994.  \\nThe accumulated records present a consistently good wind potential \\nL \\nShortfall in Emissions \\nReduction due to resource \\nvariability and \\nenvironmental mitigation \\nmeasures \\nContracted sales of emissions reductions (ER) were based on only 80 \\npercent of the total expected generation.  ERs are fungible between \\nyears, and shortfalls in one year can be made up in following years.  If \\nthere are three consecutive years of shortfall, the Bank has the right to \\nre-negotiate the contract at a lower ER quota. \\nL/M \\nSocial Risks \\nOnly eight out of a total two-hundred community land-owners \\n(ejidatarios) have not signed an agreement on land use with CFE.  The \\nagreement and compensation proposed is in line with international \\npractices.  The works are conducted so that the lots of land of non-\\nsignatory ejidatarios are not affected \\nL \\nOverall Rating \\n \\nL \\nS: Substantial; M: Moderate; L: Low\\n\\n10\\n5. ERPA conditions and covenants \\n \\n43. \\nThe ERPA contemplates only one effectiveness condition, the Issuance of a Letter of \\nApproval from the Designated National Authority (in this case SEMARNAT) to the CDM. \\n \\n \\nD. APPRAISAL SUMMARY \\n \\n1. Economic and financial analyses \\n \\n44. \\nThe economic and financial analyses were done in April 2006, before ERPA negotiations \\ntook place, so they reflect the existing market conditions (i.e. CER prices) at that previous time. \\nThe two ERPAs (with the Spanish Carbon Fund and with the BioCarbon Fund) were signed on \\nDecember 2006, and the terms agreed with CFE, which remain confidential, reflected market \\nconditions at that later date.  \\n \\nEconomic Analysis \\n \\n45. \\nThe main economic benefits of the La Venta II wind energy project are: (i) the \\nproduction of electricity; and (ii) the reduction of GHG emissions in the global atmosphere.  \\nOther economic benefits, not quantified for the purposes of this analysis but useful in evaluating \\nthe project in a qualitative manner as well, are: (i) local economic benefits of increased \\nemployment during construction, operation and maintenance of the wind power plant; (ii) \\nincreased income from land where the turbines are located --without altering the use of the land; \\n(iii) better access to agricultural land due to improved local infrastructure (roads, etc); (iv) \\naccumulation of experience in the operation of large-scale wind power in Mexico and \\naccompanying demonstration effects; (v) avoided local pollution from fossil-fuel alternatives \\n(NOx, SOx, etc); and, (vi) increased diversification in the fuel mix for electricity generation in \\nthe country. \\n \\n46. \\nThe main economic costs of the wind energy project are: (i) the investment necessary for \\nthe construction of the project; and, (ii) the costs of operation and maintenance. \\n \\n47. \\nThe cost-benefit analysis for the La Venta II project (see Annex 9) shows that the project \\nhas a positive Net Present Value (NPV) for a discount rate of 11 percent if the economic benefits \\nof GHG emission reductions are taken into account5.  The analysis also shows that without the \\nemissions reductions the project would return a positive economic NPV only at a 9 percent \\ndiscount rate.  The following table summarizes the results of the sensitivity analysis with and \\nwithout the contribution of benefits from carbon emissions reductions for a range of discount \\nrates. \\n \\n \\n \\n \\n                                                 \\n5 The project‟s economic benefits are likely to be conservative estimates (see Annex 9 for more details).\\n\\n11\\nTable D.1. La Venta II NPV at US$0.04/kWh \\n \\nDiscount Rate Economic NPV \\nEconomic NPV without ER \\n8% \\n$23,995,163  \\n$14,508,892  \\n9% \\n$15,446,065  \\n$6,418,658  \\n10% \\n$7,930,110  \\n($671,135) \\n11% \\n$1,305,498  \\n($6,899,435) \\n12% \\n($4,547,717) \\n($12,383,618) \\n \\n48. \\nFinally, the economic rate of return of the La Venta II project is highly sensitive to the \\nestimates regarding the future costs of electricity generation in the system as presented in table \\nD.2 below.  The costs for electricity generation in the Mexican system are influenced \\nsignificantly by the cost of natural gas and oil.  It is estimated that at a reference price of US$46 \\nper barrel of crude oil the average system generation cost is about US$0.045 per kWh. \\n \\nTable D.2  Sensitivity analysis of economic rates of return of La Venta II in relation to \\navoided costs of electricity generation \\n \\n \\nEconomic Rates of Return \\nElectricity Generation \\nOpportunity Cost (in US$ \\ncents/kWh) \\nEnergy Benefits and Carbon \\nEmissions Reductions \\nEnergy Benefits only \\n3.7 \\n10.0% \\n8.7% \\n3.9 \\n10.8% \\n9.5% \\n4.0 \\n11.2% \\n9.9% \\n4.2 \\n12.0% \\n10.7% \\n   \\n \\nFinancial Analysis \\n \\n49. \\nThe financial position of CFE (the La Venta II project sponsor) is closely related with the \\npolicies of the GoM applied through SHCP.  With assets of about US$59Billion and an equity \\nvalue of about US$33Billion, combined with its close relationship with the Federal Government \\nof Mexico, CFE can be viewed as a solid company for the purposes of this project.  Indeed, the \\ncompany has good access to financial markets and has issued successfully bonds on its behalf in \\noverseas markets in recent years.   \\n \\n50. \\nThe La Venta II wind energy project has been approved and assigned a budget allocation \\nby the GoM under the general scheme of Projects with Deferred Impact in the Budgetary \\nRegistry (Proyectos de Impacto Diferido en el Registro de Gasto, PIDIREGAS), using the \\nFinanced Public Project (Obra Pública Financiada, OPF) modality.  The winning bidder for the \\npower plant „turn-key‟ contract assumes the financing and construction risk of the project.  CFE \\npays the contractor when the project is completed and received by CFE; CFE‟s payment to the \\ncontractor is fully backed by government guarantees.  CFE then obtains long-term financing for \\nthe amount of the OPF contract through the commercial financial markets, with the approval of \\nSHCP.\\n\\n12\\n51. \\nCFE is expected to fully finance the La Venta II project using debt.  Under this special \\nfinancial structure, and using the assumptions presented in Annex 9, CFE has a positive financial \\ncash flow from the operation of the plant year after year.  At a discount rate of 12 percent the \\npresent value of the project to CFE is about US$13m if the revenues from emissions reductions \\nare considered and about US$7.2m without considering emissions reductions revenues. \\n \\n52. \\nA sensitivity analysis of the assumptions shows that as long as CFE has access to the \\nexpected adequate financing terms, allowing the company to service the debt and its taxes with \\nproject revenues, it is very likely to make a profit from the project.  The analysis also shows that \\nincome from the selling of emissions reductions is important to ensure the financial viability of \\nthe project.   \\n \\nTable D.3: Financial Value of La Venta II \\n \\nFinancial Discount Rate \\nFinancial NPV (US$) \\nFinancial NPV no ER sales(US$) \\n8% \\n16,772,155 \\n9,559,695 \\n9% \\n15,696,185 \\n8,886,218 \\n10% \\n14,726,086 \\n8,285,756 \\n11% \\n13,848,671 \\n7,748,635 \\n12% \\n13,052,667 \\n7,266,635 \\n \\nFiscal Impact \\n \\n53. \\nSince the World Bank is not a lender in this project, there are no fiscal impacts of Bank-\\nlending activities.  The fiscal impact on the project will be related to the duty fee paid to the \\nGoM by CFE on the net asset value of the La Venta II power plant.  Such a fee will be \\ndetermined by SHCP in future years depending on the overall profitability of the company.  \\nHowever, emission reductions‟ sales from CFE to the Spanish Carbon Fund and the Bio-Carbon \\nFund will contribute positively to the revenue stream of CFE and will influence positively either \\nthe equity of the company, or the fiscal position of the country. \\n \\n54. \\nThere is, however, a broader fiscal impact because the wind energy project is financed \\nthrough PIDIREGAS.  Financial obligations under PIDIREGAS are being brought into the \\nbudget process as the outlays for interest and amortization of previous years‟ projects are \\nregistered in the spending budget.  The fiscal impact of the La Venta II project will depend on \\nthe final financing terms authorized by SHCP for the project.  For instance, a loan for the full \\nproject amount with a repayment period of 15 years, constant payments, and a fixed interest rate \\nof 7 percent to 9 percent, would require annual payments of about US$12.5million to \\nUS$14.1million impacting accordingly the country‟s budget (the loan is in practice repaid by \\nCFE, however from the central government‟s perspective a contingent liability is created –in this \\ncase of probably low risk). \\n \\n2. Technical \\n \\n55. \\nAn early feasibility study for a similar wind energy project in the same location was \\ncompleted with funding from USAID in 2003 (Feasibility Study of the La Venta II 50 MW Wind \\nPower Project in Oaxaca, Mexico – document available in project files).  The feasibility study\\n\\n13\\ndemonstrated the wind project‟s viability and CFE has prepared various engineering studies for \\nthe project site including: evaluation of the wind resource, topography, ground mechanics, and \\nan energy flows analysis of the electric system. \\n56. \\nThe bidding documents for the La Venta II project were prepared by CFE in accordance \\nwith international standards, and using technical assistance by international experts on matters \\nrelated to wind plant design and performance characteristics of the wind turbines.  Despite the \\nhigh winds prevailing in the area, the technical design and the guarantees required by CFE for \\nthe project suggest low technical performance risks.  \\n57. \\nAdditionality.  The Kyoto Protocol requires for projects to qualify under the CDM need \\nto be “additional”.  “Additionality” is assessed against a baseline, which describes what would \\nhappen in a “business as usual” scenario (i.e. without the proposed project). A project is \\ntherefore additional if it reduces the quantity of GHG emissions that would otherwise be released \\nunder a baseline scenario. \\n \\n58. \\nThe La Venta II project is additional mainly because of other available alternatives for \\ngeneration that are financially more attractive (natural gas –fired combined cycle power plants).  \\nBased on data provided by CFE, the new installed capacity programmed to be built from 2006 to \\n2013 will be composed by 62 percent of Gas Combined Cycle Plants, 14 percent of Renewable \\npower plants, 4 percent of Coal power plants and 20 percent is not determined.   \\n \\n59. \\nBaseline.  The baseline scenario is “electricity that would have been otherwise generated \\nby the operation of grid-connected power plants and by the addition of new generating sources”.  \\nFollowing the selected methodology: ACM0002, the default baseline emission factor is \\ncalculated as a combined margin that consists of: (i) a weighted average of the operating margin \\nemission factor; and (ii) the build margin emission factor -all margins expressed in tCO2/MWh.  \\nFor wind-farm power plants the CDM Executive Board has ruled that an operating margin to \\nbuild margin ratio of 3 to 1 would be acceptable. The project boundary for the project is the \\nMexican National Grid.  Since no leakages or emissions were identified for the project, \\nemissions reductions will be equal to the baseline emissions. The baseline emission for Mexico \\napplying the above methodology is 0.62570 tCO2e/MWh.  The annual project ERs are then \\nestimated to be about 190,000 tCO2e (see detailed analysis in Annex 4). \\n \\n3. Fiduciary \\n \\n60. \\nPayment and Flow of Funds: At the time of the signing of each ERPA, an anticipated \\nschedule of payments based on the delivery of ERs will be prepared. The project sponsor(s) shall \\nmake requests for payment to the World Bank Carbon Funds under the ERPA. The first payment \\nfrom the Carbon Funds will be agreed to in the ERPA and will occur upon declaration by the \\nCarbon Funds that relevant conditions have been met. Thereafter, the Carbon Funds will only \\npay each eligible project upon successful transfer of ERs. The involvement of the World Bank \\nCarbon Finance Business will expire after ERs up to the total contract amount, as established in \\nthe ERPA, have been delivered. In the event that the project sponsor fails to deliver the quantity \\nof ERs for any given calendar year as set forth in the ERPA, the project sponsor will be required \\nto make-up the shortfall over the course of the following calendar year or in any other period as\\n\\n14\\nagreed in the ERPA.  Apart from funds pertaining to the sale of emissions reductions, as \\ndescribed in the ERPA, the project does not include any World Bank or IFC financing. Payments \\nwill be made directly to CFE‟s bank account from the World Bank. The procedures are \\nmonitored and authorized by the World Bank‟s Trust Fund Unit under OPCS‟s supervision. \\n \\n4. Social \\n \\n61. \\nThe project is located in an area were the system of ejidos (communal land) is in place, \\nand triggers OD 4.20 on indigenous peoples.  The ejido was founded in 1951 with 5,815 \\nhectares, and each ejidatario (communal land owner) was provided with a maximum of 10 Ha. \\nAccording to the National Geography and Statistics Institute‟s (INEGI) data, the ejido has a \\npopulation of 1,814 people. The inhabitants of the ejido la Venta belong to the ethnic group \\nZapoteco, which is one of the majority ethnic groups of the state of Oaxaca (16 groups total). \\nAlthough the ejido‟s population has stopped speaking Zapoteco, they maintain the regional \\nfestive traditions and recognize themselves as Zapotecos and Mexicans.  \\n \\n62. \\nBased on interviews with the ejidal commissioner and 20 ejidatarios of la Venta \\n(conducted by the World Bank‟s social specialist consultant, April 2005), the ejidatario‟s \\nperception about the project and the installation of air wind turbines in their land, is positive --it \\nis seen as a good opportunity to obtain additional income from renting of land.  However, for a \\nnumber of years there has been confusion about the effects and potential economic benefits of \\nwind energy projects in the area.  CFE has conducted an extensive consultation process and \\nnegotiated compensations for the use of land in line with international practices.  Thus, CFE has \\nset a benchmark for agreements between project sponsors and land-owners that guarantee a \\nminimum additional income to beneficiaries without compromising traditional uses for the land \\nin the area.  \\n \\n63. \\nThe project will benefit directly the ejidatarios that own land in the project‟s zone of \\ninfluence (such payments will on average double the annual income of beneficiaries) and \\nindirectly all the ejidatarios of La Venta II according to a plan of social works negotiated \\nbetween CFE and the local authorities of the ejido.  The plan includes: (i) the creation of a trust \\nfund (created in December 2005 and capitalized with 7million Mexican Pesos) to provide public \\nlighting, paving of the principal streets of the ejido and computers for the secondary school; and \\n(ii) the creation of an employment agency that would give priority to the ejidatarios in the works \\nduring the installation of the wind turbines.  The plan will be executed by the authorities of the \\nejido with the support of CFE, the Ministry of Social Development (Secretaría de Desarrollo \\nSocial, SEDESOL) and the Ministry of Agriculture, Rural Development, Fishing and Food \\n(Secretaría de Agricultura, Ganadería, Desarrrollo Rural, Pesca y Alimentación). \\n \\n5. Environment \\n \\n64. \\nThe project triggers O.P. 4.01 (Environmental Assessment) and O.P. 4.04 (Natural \\nHabitats). The project sponsor complies with the requirements of O.P. 4.01 as follows: CFE has \\npresented to SEMARNAT --as required by the Mexican norms-- a full Environmental Impact \\nAssessment (EIA) for the project.  The EIA was prepared by the Instituto de Ecología A.C. \\n(available in Project files).  SEMARNAT received the EIA on April 22, 2004 and approved it on\\n\\n15\\nAugust 3, 2004, following consultations with a number of environmental experts in the country.  \\nAn update to the EIA based on the final project design was approved by SEMARNAT in \\nDecember 2005.  \\n \\n65. \\nThe EIA includes an analysis of impacts and presents measures to avoid, control, \\nmitigate, or compensate any negative environmental impacts in an Environmental Management \\nPlan (EMP), during both construction and operation phases of the project.  On the basis of the \\nEIA, environmental audits are planned to ensure compliance with the applicable norms of the \\nproject.  Further, CFE is developing specific operational guidelines to monitor and prevent \\nenvironmental impacts related to migratory birds (see Key Safeguard issues below). \\n \\n66. \\nSEMARNAT will use the experience from the proposed project during the operation \\nphase to evaluate impacts on the migratory birds in the zone and will issue appropriate norms in \\nsimilar future projects in the country. \\n \\nPublic disclosure \\n \\n67. \\nThe EIA and EMP are posted on the Bank website, and on the website of a SEMARNAT.  \\nThere are no negatively affected people from this project and all local communities have had \\naccess to the EIA and are currently able to lodge complaints directly with CFE and the local \\nenvironmental authorities.  SEMARNAT based its evaluation and approval of the EIA on \\nconsultations held with General Direction of Wild-Life (Dirección General de la Vida Silvestre, \\nDGVS), the National Biodiversity Commission (Comisión Nacional de Biodiversidad, \\nCONABIO), the State Institute of Ecology of Oaxaca (Instituto Estatal de Ecología del Estado de \\nOaxaca) and the Coordination of Conservation Programs in Central Mexico (DUMAC).   \\n \\n68. \\nOn April 20th 2006, the Federal Commission of Electricity conducted a one day public \\nconsultation with relevant stakeholders, bird specialists, NGOs and the academia to discuss the \\ncharacteristics of La Venta III and its potential impacts on bird and bat populations. More than \\n40 people attended the consultation and in general terms it has been reported that the event \\nresulted in a constructive dialogue and positive conclusions regarding the quality and usefulness \\nof CFE‟s bird monitoring program. CFE had left an open e-mail address for further questions and \\nanswers about the project.   \\n \\n69. \\nCFE is currently finalizing the Indigenous Peoples Plan that will be published in CFE‟s \\nwebsite and the World Bank Infoshop before project appraisal. \\n \\nKey Safeguards issues \\n \\n70. \\nThe key environmental impact concerns the potential collision of birds (native and \\nmigratory) with the blades of wind turbines during operation. Specifically, the Oaxaca portion of \\nthe Isthmus of Tehuantepec is recognized as one of the world's most important corridors for \\nmigratory birds.  As noted in the Environmental Assessment (EA) report millions of birds \\n(representing a wide diversity of species) funnel through the Isthmus area, especially during the \\nautumn (southbound) migration that takes place late August to November.  The general La Venta\\n\\n16\\nregion is particularly noteworthy for numbers of raptors (hawks and other birds of prey) that pass \\nthrough the area. \\n \\n71. \\nThe Project has established a number of measures to avoid and/or minimize impacts on \\nbird and bat populations including: (i) as required by the environmental licensing for the Project, \\nCFE has been implementing since 2004 a program of monitoring of the birds in the project‟s \\nzone of influence (ii) the project has been re-designed during the final award to the contractor to \\ninvolve a smaller number of turbines and to avoid areas where risks of collision where deemed \\nhigher during the monitoring program6 (iii) a public consultation with relevant stakeholders and \\nbird specialists to discuss prevention and mitigation measures was held on April 20, 2006 (iv) \\ndevelopment of  guidelines and specifications to ensure appropriate turbine design and \\narrangements as well as implementation of rules for turbine shutdown during migration season is \\ncurrently under way.  CFE is planning to implement a radar system that would detect the passage \\nof big numbers of migratory birds and combine it with trained observers, so that it can temporary \\nsuspend the rotation of wind turbines to avoid collisions.   \\n \\n72. \\nThe above operational provisions will form part of the operational and monitoring plan \\nused to validate and verify emissions reductions for the purposes of the Kyoto Protocol and as \\nstandard practice are part of the ERPA.  An independent entity (DOE, see sections C1 and C2 \\nabove) will produce a report confirming that CFE is complying with all pre-established social \\nand environmental conditions. \\n \\n6. Safeguard policies \\n \\nSafeguard Policies Triggered by the Project \\nYes \\nNo \\nEnvironmental Assessment (OP/BP/GP 4.01) \\n[ X] \\n[ ] \\nNatural Habitats (OP/BP 4.04) \\n[X] \\n[] \\nPest Management (OP 4.09) \\n[ ] \\n[X ] \\nCultural Property (OPN 11.03, being revised as OP 4.11) \\n[ ] \\n[X ] \\nInvoluntary Resettlement (OP/BP 4.12) \\n[] \\n[X] \\nIndigenous Peoples (OD 4.20, being revised as OP 4.10) \\n[X] \\n[] \\nForests (OP/BP 4.36) \\n[ ] \\n[ X] \\nSafety of Dams (OP/BP 4.37) \\n[ ] \\n[ X] \\nProjects in Disputed Areas (OP/BP/GP 7.60)* \\n[ ] \\n[ X] \\nProjects on International Waterways (OP/BP/GP 7.50) \\n[ ] \\n[X ] \\n \\n7. Policy Exceptions and Readiness \\n \\n73. \\nNo policy exceptions are anticipated for the proposed project.   \\n \\n74. \\nThe process for the selection of contractors for the project (international bidding process \\nusing Mexico‟s norms) was completed in 2005 (see section C.1 and footnote 4) while the actual \\n                                                 \\n6 SEMARNAT provided the environment clearance for the updated project in December 2005 (Official \\nMemorandum in project Files) \\n* By supporting the proposed project, the Bank does not intend to prejudice the final determination of the parties' claims on the \\ndisputed areas\\n\\n17\\ncivil works are currently underway7.  It is expected that the project will enter into operation in \\nNovember 2006. \\n \\n75. \\nCondition of Negotiation: (i) Presentation of a draft Project Operational Manual, \\nsatisfactory to the Bank. \\n                                                 \\n7 The bidding documents for the wind energy plant are available in project files: Bases de Licitación 132 CE La \\nVenta II.\\n\\n18\\nAnnex 1: Country and Sector Background \\nMEXICO: Wind Umbrella (La Venta II) \\n \\nMexico has an advanced electricity system with an installed capacity of about 53 GW, an annual \\nproduction of about 220,000 GWh, annual consumption of about 180,000 GWh, and an \\nestimated population coverage of about 95 percent.  Mexico‟s electricity system is one of the \\nbest in Latin America.8   \\n \\nAverage per capita consumption of electricity is in line with the level of economic development \\nof the country (middle-income) and has been growing steadily.  Per capita consumption in \\nMexico was 1,785 kWh in 2003 –about a fifth of annual consumption in Japan, and slightly \\nsmaller than that of Chile, or Venezuela.  In the last decade, electricity demand in Mexico grew \\non average 5.2 percent per year while at the same time economic growth was averaging about 3.5 \\npercent annually.  The rate of growth of demand for electricity is expected to remain at similar \\nlevels in the next few years, but it could increase if the pace of economic growth accelerates.  \\nThe government forecasted for the period 2004-2013 an average rate of growth of 5.6 percent \\nbased on economic and demographic growth estimates9.  Significant investments in new \\ngeneration capacity will be needed in the next decade to ensure that there will be adequate supply \\nof electricity to meet the growing demand. \\n \\nThe sector is dominated by two state-owned electricity companies: the Federal Electricity \\nCommission (CFE), which serves most of the Mexican territory; and Luz y Fuerza del Centro \\n(LFC), which is responsible for providing electricity services in the area of Mexico City and its \\nsurroundings.  CFE is a vertically integrated electricity company that controls the majority of \\ngeneration, the transmission system and energy dispatching functions, while it is also responsible \\nfor the distribution and commercialization of electricity.  LFC is primarily devoted to distribution \\nand commercialization and owns a small part of generation; almost 95 percent of the electricity \\ndistributed by LFC is bought from CFE.   In 1992, the Electricity Public Service Law was \\nreformed, and reduced CFE‟s legal monopoly in power generation. The objectives of the reform \\nwere to foster private participation in electricity generation, to entitle open access to the \\ntransmission grid for all participants in the sector, and to optimize short and long-term costs. \\n \\nElectricity tariffs for the sale of electricity in Mexico are defined and authorized by the Federal \\nGovernment through SCHP and, for certain categories of users, tariffs are set below cost.  These \\ntariff subsidies are balanced with taxes that CFE should pay to the government.  According to \\nCFE the average tariff charged to residential customers in 2003 covered 42 percent of the costs, \\nand for agricultural uses only 28 percent.  Residential tariffs are well below the OECD country \\naverage, while industrial tariffs are generally higher than in OECD countries.  Compared to other \\nLatin American countries, commercial tariffs are among the highest, while industrial and \\nresidential tariffs are close to the average.   High industrial tariffs have led to an increasing trend \\ntowards self-supply by industries during peak-times10. \\n                                                 \\n8 Data for 2003 available from the International Energy Agency (IEA)at: http://data.iea.org/mexico \\n9 “Programa Sectorial de Energía 2001-2006”; “Prospectiva del Sector Eléctrico 2005-2014”, México 2005, \\nSecretaria de Energía –available at www.sener.gob.mx. \\n10 A more detailed analysis on electricity sector performance indicators is available in “Mexico Infrastructure Public \\nExpenditure Review (IPER), Report No. 33483-MX, October 24, 2005. The World Bank.\\n\\n19\\n \\nCFE remains today the owner of the majority of generating capacity. However, Independent \\nPower Producers (IPPs) are currently operating about 8.2 GW of generation --mostly combined \\ncycle plants using natural gas.  The electricity market is now a monopsony.  CFE is the main \\nbuyer carrying out bidding processes to develop major new electricity generation projects. These \\nprocesses include Build, Lease and Transfer (BLT) projects, and (IPP) schemes. The IPP scheme \\nis becoming increasingly important in bringing new capacity, but specific conditions for the \\nbuying of electricity and responsibilities for the provision of fuel are set on a project by project \\nbasis.  Based on the corresponding law issued in 1995, the Energy Regulatory Commission \\n(CRE) issues generation permits for: (i) self-supply; (ii) cogeneration; (iii) small-scale \\nproduction; (iv) independent power production, and (v) permits for imports and exports.  CFE \\nretains control of the long-term planning of the electricity system and, in coordination with the \\nMinistry of Energy (Secretaría de Energía, SENER) issues multi-year plans of expansion that \\ndirect the majority of private, or public, investments in generating capacity. \\n \\nAbout 80 percent of the energy generated in Mexico is from thermal plants, although the \\ninstalled thermal capacity is about 67 percent of the total.  The remaining generation is hydro, \\nnuclear, and a small percentage of other renewables including geothermal.  Oil and gas are the \\nmain fuels for the country‟s thermal plants with coal representing a smaller percentage of the \\nfossil fuel generation (see graph below).  Because a portion of the natural gas used for generation \\nis imported from the north, generation costs have been exposed in the recent years to the spikes \\nin natural gas prices experienced in the USA market, while the recent increases in oil prices have \\nresulted in increased economic costs for electricity generation across the system. \\n \\n \\nGraph Annex 1.1: Energy Mix in Mexico (Source: International Energy Agency)\\n\\n20\\nTo meet the increasing electricity demand, CFE defines the Program of Investments and Works \\nin the Electricity Sector (Programa de Obras e Inversiones del Sector Eléctrico, POISE).  The \\nprogram is based on the sector policy established by SENER related with the costs and use of \\nfuels, as well as CFE‟s projections on costs of operation and maintenance for generation and \\ntransmission.  These data are incorporated in simulation models (WASP, PSS/E, MEXICO and \\nothers) of the National Electricity System, which are then used to estimate the minimum cost \\nexpansion of the system. \\n \\nIn the East area of the electricity system, demand is expected to be on average 5.2 percent for the \\nperiod 2004-2013.  POISE considers that a wind energy plant of 85 MW in the project area \\nwould contribute in meeting the increasing demand (the program aims to maintain a reserve \\nmargin of 27 percent and an operational margin of 6 percent, in line with accepted international \\npractices). \\n \\nThe government of Mexico (GoM) publishes annually through SENER a ten-year plan for the \\nexpansion of the electricity system and has recognized the need to gradually increase the \\ndiversity of the fuel mix for electricity generation.  Mexico has very good potential to develop \\nalternative sources of energy and, especially in the South, the potential for wind energy is \\nconsiderable.  Nevertheless, today only a few MW of wind power are operating in the country.  \\nThe country has ratified the Kyoto Protocol, while a special law to support the promotion of \\nrenewable energy is expected in the coming months.\\n\\n21\\nAnnex 2: Major Related Projects Financed by the Bank and/or other Agencies \\nMEXICO: Wind Umbrella (La Venta II) \\n \\n \\n \\nProject Name \\nID \\nProduct \\nLine \\nCountry \\nStatus \\nApproved \\nMexico City Insurgentes Bus \\nRapid Transit System Carbon \\nFinance Project \\nP082656 \\nCarbon Offset \\nMexico \\nActive \\n04-Nov-2005 \\nMethane Gas Capture and Use at a \\nLandfill - Demonstration Project  \\nP063463 \\nGlobal \\nEnvironment \\nFacility –  Grant \\nMexico \\nActive \\n(Highly \\nSatisfactory) \\n15-May-2001 \\nSecond Programmatic \\nEnvironment Development Policy \\nLoan \\nP079748 \\nLending \\nMexico \\nClosed \\n06-Se--2005 \\nIntroduction of Climate Friendly \\nMeasures in Transport \\nP059161 \\nGlobal \\nEnvironment \\nFacility- Grant \\nMexico \\nActive \\n29-Oct-2002 \\nWaste Management and Carbon \\nOffset Project \\nP088546 \\nCarbon Offset \\nMexico \\nLending \\n18-Mar-2005 \\n \\nThe United Nations Development Program is implementing since 2002 a US$10m GEF project aiming to promote \\ncommercial markets for wind energy in Mexico (project title: Action Plan for Removing Barriers to the Full-Scale \\nImplementation of Wind Power in Mexico). \\n \\nThe World Bank is also expected to approve in 2006 another US$25m GEF project aiming to promote large scale \\nrenewable energy in Mexico.\\n\\n22\\nAnnex 3: Results Framework and Monitoring \\nMEXICO: Wind Umbrella (La Venta II) \\n \\nResults Framework \\n \\n \\nPDO \\nProject Outcome \\nIndicators \\nUse of Project Outcome \\nInformation \\nThe project aims to reduce greenhouse \\ngases emissions from power generation \\nin Mexico and promote investment in \\nwind energy in Mexico to diversify the \\nsources of power generation in the \\ncountry.  \\nThe key performance indicator \\nis the creation of VERs through \\nthe electricity generation of the \\nwind energy power plant \\nEmissions Reductions Purchase \\nAgreement payments\\n\\n23\\n \\nArrangements for results monitoring \\n \\nTarget Values \\nData Collection and Reporting \\nProject \\nOutcome \\nIndicators  \\nBaseline \\n2007 \\n2008 \\n2009 \\n… \\n2016 \\n2017 \\n2018 \\n2019 \\nFrequency \\nand Reports \\nData \\nCollection \\nInstruments \\nResponsibility \\nfor Data \\nCollection \\nVERs (2e) \\ncreated \\n0 \\n180,000 \\n180,000 \\n180,000 \\n180,000 \\n180,000 \\n180,000 \\n180,000 \\n180,000 \\nAnnual \\nVerifications \\nby  \\nDesignated \\nOperational \\nEntity \\nReports \\nDesignated \\nOperational \\nEntity \\n \\nNote: For the period 2007-2016 the ERPA is on behalf of the Spanish Carbon Fund, and for the period 2017-2019 the ERPA is on behalf of the Bio Carbon Fund.\\n\\n24 \\nAnnex 4: Detailed Project Description \\nMEXICO: Wind Umbrella (La Venta II) \\n \\nPurchase of Carbon Emissions Reduction (US$17,473,211) \\n \\nThe proposed project will purchase Verified Emissions Reductions (VERs) from the La Venta II \\nwind power plant.  The project would reduce greenhouse gases emissions because it generates \\nelectricity using wind energy with no associated GHG emissions and would replace electricity \\nwhich would otherwise be generated using fossil fuel alternatives. \\nAccording to the feasibility study the project consists of wind energy power plant of a nominal \\ncapacity of 85 MW (+/- 2 percent) and its associated interconnection system.  The plant would \\nprovide annually about 308 GWh on average, resulting in an annual reduction of GHG of about \\n190,000 tons of  CO2 (tCO2e).  The plant will be owned and operated by CFE and will be the \\nfirst large-scale wind energy plant in Mexico, located in the Ejido La Venta, in the municipality \\nof Juchitán de Zaragoza, in the state of Oaxaca. \\nThe project would reduce about 4 million tCO2e over its 20 year lifetime period.  The World \\nBank would purchase on behalf of the Spanish Carbon Fund Verified Emissions Reductions \\n(VER) from the project for the period 2007-2016 (total cost US$16,258,211) and on behalf of the \\nBio-Carbon Fund for the period 2017-2019 (total cost US$1,215,000). \\nThe purchase of VERs under this project means that the emission reductions will be verified \\nannually by an accredited organization and their statement will be transmitted to the carbon \\nfunds.  An advance payment to the sponsor will occur upon reception of the power plant from the \\ncontractor responsible for construction, while the remainder will be paid annually in the period \\n2007-2012 after subtracting the advance payment. \\nBaseline and Additionality \\n \\nThe provisions of the Kyoto Protocol require that “Reductions in emissions […] be additional to \\nany that would occur in the absence of the certified project activity.” This is the so called \\nadditionality criterion and constitutes the foundation of generating emission reductions (ERs) \\nthrough CDM projects. \\n \\n“Additionality” is assessed against a baseline, which describes what would happen in a “business \\nas usual” scenario (i.e. without the proposed project). A project is therefore additional if it \\nreduces the quantity of GHG emissions that would otherwise be released under a baseline \\nscenario. \\n \\nEmissions Reductions are not likely in the absence of the La Venta II project, because of barriers \\nthat wind power plants‟ developers need to overcome in Mexico and the existence of other \\navailable alternatives for generation that are more financially attractive i.e. natural gas –fired \\ncombined cycle power plants.  The National Energy Sector Program 2001-2006, on page 26, \\naffirms that Mexico has the 9th place in oil reserves and the 9th place in natural gas reserves and \\nthat its fiscal income strongly depends on the revenues generated by the oil national industry.  \\nBased on data provided by CFE, the new installed capacity programmed to be built from 2006 to\\n\\n25 \\n2013 will be composed by 62 percent of Gas Combined Cycle Plants, 14 percent of Renewable \\npower plants, 4 percent of Coal power plants and 20 percent is not determined.   \\n \\nFinally, the project will be the first large-scale wind power plant to be built in Mexico, there is \\nonly one other grid-connected wind power plant named La Venta I of 1.75 MW (a pilot plant) \\nand an off-grid wind power plant (Guerrero Negro of 0.6 MW).  This project will therefore serve \\nas a technological example to demonstrate the value of the wind potential of Oaxaca.  CFE \\nbelieves that carbon finance revenues will alleviate the financial hurdles and other barriers faced \\nby the project to some extent. \\n \\nBaseline \\n \\nThe baseline scenario is “electricity that would have been otherwise generated by the operation \\nof grid-connected power plants and by the addition of new generating sources”.  Following the \\nselected methodology: ACM0002, the default baseline emission factor is calculated as a \\ncombined margin (CM), consisting of a weighted average of the operating margin emission \\nfactor (OM) and the build margin emission factor (BM) -all margins expressed in tCO2/MWh. \\nThe default weights for the OM and BM are 0.5, but for wind-farm power plants the CDM \\nExecutive Board has ruled that 0.75/0.25 would be acceptable due its technological \\ncharacteristics. The project boundary for the project is the Interconnected Mexican National Grid \\n(IMNG).  Since no leakages or emissions were identified for the project, emissions reductions \\nwill be equal to the baseline emissions, which is to be calculated ex-post annually as outlined \\nbelow. \\n \\nThe Operating Margin is calculated ex-post annually as the weighted average emission of all \\nnon-renewable sources in the Mexican Grid. The BM is defined as the generation-weighted \\naverage emission factor (tCO2/MWh) of the latest 20 percent added capacity.  \\nThe IMNG generation in 2005 of non-renewable sources was 160,168 GWh, with total emissions \\nof 112,176,682 tCO2, thus the operating margin (OM) gives 0.70033 tCO2e/MWh.  As latest \\ncapacity addition was composed mainly by combined cycle natural gas fired plants according to \\nCFE (latest capacity addition data has not been yet made available by CFE), this technology is \\ndeemed to be representative for a build margin (BM) conservative estimate, thus the BM would \\nbe 0.40185 tCO2/MWh, which is the tCO2/MWh of a typical gas-fired combined cycle plant in \\nthe IMNG.  The resulting CM, calculated as the weighted average of the OM and BM would be \\n0.62570 tCO2e/MWh.  \\n \\nFinally, the annual project ERs are estimated to be: \\nAnnual ERs (tCO2e) = 307,728 MWh x 0.62570 tCO2/MWh = 192,545 tCO2e. \\n \\nThe Wind Energy Power Plant and associated Interconnection Line  \\n(La Venta II Wind Power Plant: US$105,763,000  \\nAssociated Interconnection Line: US$8,10,2000 \\n Total Cost: US$113,865,000)\\n\\n26 \\nAn early feasibility study for a similar wind energy project in the same location was completed \\nwith funding from USAID in 2003 (Feasibility Study of the La Venta II 50 MW Wind Power \\nProject in Oaxaca, Mexico – document available in project files).  The feasibility study \\ndemonstrated the projects viability and CFE has prepared various engineering studies for the \\nproject site including: evaluation of the wind resource, topography, ground mechanics, and \\nenergy flows analysis of the electric system.  \\nWind Resource   \\nOne of the important factors for the technical feasibility of the project has been the analysis of \\ndata related to the direction and velocity of the wind.  Driven by trade winds in the Caribbean, air \\nflows south from the Gulf of Mexico, through a gap in the Sierra Madre Mountains, to the \\nPacific Ocean.  The winds are channeled and accelerated through the mountain pass („venturi‟ \\neffect) across the coastal plains of the Isthmus of Tehuantepec.  CFE has been monitoring the \\narea with anemometers since 1993 and has collected data on various heights (20, 30 and 40m).  \\nThe database of the resource has been analyzed and it shows, with a good degree of confidence, \\nthat the selected site is exceptionally well suited for wind project development.  Annual average \\nwind speeds for the area are over 9 m/s at a height of 30 m above ground level (see table below \\nfor monthly variability), with the prevailing direction from the north.  In comparison with other \\nlocations the consistent direction of the wind is unique in the La Venta area. \\n \\nTable Annex 4.1: Average Monthly Wind Speed (m/s). \\n \\n \\n1996 \\n1997 \\n1999 \\n2000 \\n4-yr \\nJanuary \\n11.7 \\n11.5 \\n12.3 \\n13.3 \\n12.2 \\nFebruary \\n10.2 \\n12.7 \\n11.6 \\n11.0 \\n11.4 \\nMarch \\n10.5 \\n10.4 \\n9.3 \\n6.9 \\n9.3 \\nApril \\n8.6 \\n9.2 \\n7.9 \\n8.7 \\n8.6 \\nMay \\n8.5 \\n9.7 \\n6.5 \\n \\n8.3 \\nJune \\n6.3 \\n5.6 \\n4.7 \\n \\n5.6 \\nJuly \\n8.7 \\n12.6 \\n9.7 \\n10.3 \\n10.3 \\nAugust \\n8.4 \\n12.4 \\n6.9 \\n10.5 \\n9.5 \\nSeptember \\n5.7 \\n8.6 \\n6.2 \\n6.7 \\n6.8 \\nOctober \\n8.7 \\n8.3 \\n10.1 \\n12.5 \\n9.9 \\nNovember \\n13.1 \\n \\n14.4 \\n \\n13.7 \\nDecember \\n13.7 \\n \\n13.8 \\n \\n13.8 \\nSource: La Venta II Feasibility Study\\n\\n27 \\nAt most sites, a slight variation in wind speed results in a large variation in energy output, due to \\nthe cubic relationship between wind speed and wind energy.  At extremely high wind sites, like \\nthose in the La Venta region, this effect is reduced because the wind turbines operate at their \\nrated output much of the time.  Even if turbines experience slightly lower winds, they still \\noperate at their rated output, minimizing the impact on the annual energy output.  As a result, the \\nvariation of the wind across years may not be as important as in other sites. \\n \\nWind Turbine Equipment \\n \\nMost of the commercial manufacturers offer today wind turbines of 1 MW, or larger, in size.  \\nGiven the exceptionally high winds in La Venta, Class 111 wind turbines are required.  For this \\nproject, the issue of logistics (transport of the wind turbines‟ blades) was also examined and it is \\nexpected that the port of Salina Cruz could handle the equipment; cranes for the wind turbines \\ninstallation are available in the region.  The winning bidder for the project (Gamesa Eólica) will \\nsupply 98 wind turbines rated at 850 kW, with a rotor diameter of 52 m. \\n \\nSite Layout and Project Performance \\n \\nThe placing of the turbines in the project area is designed using computer models that take into \\naccount the wind speed, the wind power curve, and digitized terrain data to optimize the energy \\noutput from the power plant and estimate annual energy outputs.  Various configurations for \\nwind turbine placement were studied (one Row, two Rows with 10 diameter spacing, four rows \\nwith 10 diameters spacing, etc) to project annual outputs from the plant.  Finally, to \\naccommodate issues of land availability and the need to coordinate with a large number of \\nlandowners, a configuration of four rows with 10 diameters spacing was selected.  Under the \\nselected configuration, the net capacity factor of the plant is estimated in the range of 45 percent-\\n49 percent which would produce on average 350 GWh annually. \\n \\nProject Construction and Interconnection \\n \\nThe project will be interconnected at a new substation constructed within the project site.  CFE \\nhas carried out load flow studies for a variety of system conditions and the results indicated that \\nthe wind power plant causes no adverse conditions and the transmission system can carry all \\nplanned generation capacity to the various lad centers in the CFE system.  The turbines will be \\ninterconnected via underground cable to a pad-mounted transformer where the voltage will be \\nincreased to 34.5 kV.  The 34.5 kV lines will run underground along the La Venta- El Porvenir \\nroad to the substation on the project site.  La Venta II will be connected to the National \\nInterconnection System with a 230 kV transmission line of about 18km along the road.  It should \\nbe noted that the transmission line is designed to allow for the power transmission of future wind \\nenergy plants that are expected in the area. \\n \\nAs of April 2006 the project‟s construction is advancing according to schedule both for the \\nfoundations of the wind turbines, as well as the site preparation for the substation and the \\ninterconnection line.  The contractor is closely supervised by CFE‟s technical unit.  The project \\n                                                 \\n11 Four classes of wind turbines are defined in an International Electro technical Commission.  Class 1 are \\nrecommended for areas with high winds where the average annual wind speed at hub height is up to 10 m/s.\\n\\n28 \\nis to undergo testing before delivery in October 2006 and appears to be progressing well.  The \\nonly remaining risk is the raising of the blades that could be hindered if unexpectedly high winds \\nappear over this summer.\\n\\n29 \\nAnnex 5: Project Costs \\nMEXICO: Wind Umbrella (La Venta II) \\n \\n \\n \\nEmissions Reduction Purchase \\n \\nPeriod \\nVerified Emissions Reductions \\nPurchase for \\n2007-2016 \\n2017-2019 \\nSpanish Carbon Fund \\nUS$16,258,211 \\n \\nBio Carbon Fund \\n \\nUS$1,215,000 \\n \\nWind Energy Power Plant and Associated Interconnection Line \\n \\nA detailed analysis of costs incurred by CFE for the investments in the wind energy power plant \\nis available at the feasibility summary.  The following table summarizes the estimated values \\n(US$) for the turn-key contract: \\n \\nWind Power Plant \\n \\nPhysical \\nInvestment \\n105,130,000  \\n \\nSupervision \\n633,000  \\nSub-total \\n \\n \\n105,763,000 \\nInterconnection Line \\n \\nPhysical \\nInvestment \\n7,951,000  \\n \\nSupervision \\n151,000  \\nSub-total \\n \\n \\n8,102,000 \\nTotal Project \\n \\n \\n113,865,000\\n\\n30 \\nAnnex 6: Implementation Arrangements \\nMEXICO: Wind Umbrella (La Venta II) \\n \\nInstitutional and Implementation Project Arrangements \\n \\nThe owner of the wind energy power plant would be CFE, which would enter in an Emissions \\nReduction Purchase Agreement (ERPA) with the World Bank as trustee of the Spanish Carbon \\nFund and the Bio-Carbon Fund for the sale of GHG emissions reductions.   \\n \\nThe project is authorized by a budgetary allocation from the central government under the \\nFinanced Public Works scheme (Obra Pública Financiada, OPF).  Under the OPF scheme, the \\ncontractor is responsible for the construction phase, including its financing.  CFE pays fully the \\ncontractor upon satisfactory reception of the project, according to the bidding document.  CFE \\nfinances the project under financing modalities authorized by the Ministry of Economy and \\nFinance (Secretaría de Hacienda y Crédito Público, SHCP) –accessing the financial markets, or \\nborrowing from national, or international, financial institutions.  \\n \\nCFE has conducted international competitive bidding processes for the wind energy plant and the \\nassociated interconnection line --following the country‟s norms for turn-key contracts.  The \\ncontract for La Venta II includes: detailed engineering design, procurement of equipment and \\nmaterials, construction, insurance and training of personnel.  The costs are US$105.763 million \\nfor the wind energy plant and US$8.1million of the interconnection line.  The contracts have \\nbeen awarded to the consortium of two Spanish companies: Gamesa Eólica and Iberdrola \\nIngeniería y Construcción (Iberinco)12.  Preliminary works on the site have started in 2005, while \\nthe project is expected to be completed and enter into operation in November 2006. \\n   \\nA letter of intention (LoI) was signed with the World Bank as a trustee of the carbon funds to \\npurchase emissions reductions from the project and a preliminary agreement has been reached \\nfor the amount of VERs and indicative prices and payment terms for the purchased of emissions \\nreductions from the operation (see section B.1). The World Bank, on behalf of the Spanish \\nCarbon Fund and the Bio-Carbon Fund, will enter into an ERPA with the project sponsor (CFE). \\n \\nThe Clean Development Mechanism Designated National Authority for the Kyoto Protocol in \\nMexico is the Ministry of the Environment and Natural Resources (Secretaría de Medio \\nAmbiente y Recursos Naturales, SEMARNAT).  SEMARNAT is responsible for the registration \\nof the project in Mexico and provides confirmation that the project is consistent with the \\ncountry‟s overall sustainable development priorities. SEMARNAT has approved the \\nEnvironmental Impact Assessment study for the project and has indicated in preliminary \\nconsultations that the project qualifies for the CDM mechanism in Mexico. \\n \\n \\n \\n \\n                                                 \\n12 The contracts awarded are published at CFE‟s website, with the numbers: 18164093-004-05 and 18164093-027-\\n04.  The bidding documents are available in project files.\\n\\n31 \\n \\nGeneral Institutional Arrangements for CF Projects \\n \\n \\n \\n \\nThe monitoring of the emissions reductions will be carried out by an accredited Designated \\nOperational Entity (DOE), as required by the CDM rules.  The DOE is an independent entity \\naccountable to the supervising bodies of the CDM and will be responsible for validating the \\nproject activities and verifying the project‟s anthropogenic GHG emissions reductions.  In \\naddition, the DOE will be responsible for disclosing any potential conflict of interest arising \\nfrom the project, as well as maintaining records for the validation and verification of GHG \\nemissions reductions.  This would be part of the normal validation and verification process of the \\nemissions reductions as required by the CDM project cycle. \\n \\nThe ERPA includes an accompanying Monitoring Plan (MP) defining the quantity, price and \\nother delivery conditions to be purchased by the carbon funds, including the monitoring and \\nverification systems and methods.  To increase the likelihood that emissions reductions will be \\nrecognized by the parties to the Kyoto Protocol, independent experts provide baseline validation \\nand verification/certification procedures for emissions reductions.  The emissions reductions \\nestimates are based on the findings of a baseline study, validated by independent experts.  The \\nBaseline Study and the Monitoring Plan are being finalized (drafts are available in the project \\nfiles). \\n \\nThe carbon funds will require that the DOE issues a Verification and Certification Report that \\nincludes: (i) a statement of the amount of verified emissions reductions the project has generated \\nduring the verification period; (ii) verification of compliance with World Bank safeguard \\npolicies; and (iii) any other matters required by the Kyoto Protocol. \\n \\nThe actual dispatching of the electricity generated by the wind energy plant will be monitored by \\nthe regional office of National Center of Energy Control (Centro Nacional de Control de \\nEnergía, CENACE) in accordance with the guidelines set out by the DOE. \\nSEMARNAT \\n(DNA) \\nCARBON \\nFUNDS \\n(IBRD) \\n CFE \\nSEMARNAT \\nLocal \\nAuthorities\\n\\n32 \\nAnnex 7: Financial Management and Disbursement Arrangements \\nMEXICO: Wind Umbrella (La Venta II) \\n \\n \\n[This annex is not required for CF projects as they do not follow procurement and disbursement \\nguidelines required under World Bank lending operations]\\n\\n33 \\nAnnex 8: Procurement Arrangements \\nMEXICO: Wind Umbrella (La Venta II) \\n \\n[This annex is not required for CF projects as they do not follow procurement and disbursement \\nguidelines required for World Bank lending operations]\\n\\n34 \\nAnnex 9: Economic and Financial Analysis  \\nMEXICO: Wind Umbrella (La Venta II) \\nThe Project Sponsor \\n \\nComisión Federal de Electricidad (CFE) is a Decentralized Public Entity of the GoM of a \\ntechnical, industrial and commercial nature, created by a Decree issued by Congress (Legislative \\nBranch) on August 14, 1937, with its own legal identity and equity. CFE mainly renders public \\nelectric energy service throughout Mexico, including: generating, conveying, transforming, \\ndistributing, and supplying electric energy.  CFE‟s also is planning and carrying out all the \\nprojects, installations, and works required by the national electricity system in respect to \\nplanning, execution, operation, and maintenance, with the applicable participation of \\nindependent energy producers, as provided for in the terms set forth in the Public Electric Energy \\nService and its Regulations”13. \\n \\nCFE‟s financial position is closely related with the policies of the GoM applied through SHCP.  \\nThe tariff rates applicable to electric power sales in Mexico are defined and authorized by the \\nFederal Government, through the Department of Revenues of the Treasury Department  of \\nSHCP.  CFE is required by law to pay a duty fee to the GoM for the assets it uses to provide \\nelectricity services.  Duties are determined annually based on the profitability rate established for \\nstate owned entities in each year; for 2004 and 2003 the rate was 9 percent --authorized by \\nSHCP. This rate is applied to the value of the net operating assets of the immediately preceding \\nyear and the resulting amount is charged to results of the year.  This annual duty expense is \\ncompared with non-cash transfers from SHCP to supplement deficient electricity tariff rates \\n(subsidies from the GoM to certain groups of electricity users). Up to 1999 a net liability had \\nbeen generated in favor of the Federal Government, which was not payable, but was capitalized \\nas equity in CFE at the close of each year. However, since the fiscal year 2000 the amount of the \\nduties has been below that of the subsidy, with the insufficiency directly reducing the CFE‟s \\nequity value14.  Moreover, in 2004, SHCP requested that the company pay a onetime \\nextraordinary government charge of about US$1.34Billion in conformity with the Organic Public \\nFederal Administration Law. CFE made the requested payment to the Federal Treasury recording \\nthe amount paid as an extraordinary item in the statement of operations (see line 20 of Table \\nAnnex 9.1). \\n \\nWith assets of about US$59 billion and equity of about US$33 billion, combined with its close \\nrelationship with the Federal Government of Mexico, CFE can be viewed as a solid company for \\nthe purposes of this project.  Indeed, the company has good access to financial markets and has \\nissued successfully bonds on its behalf in overseas markets in recent years. \\n \\nAn abstracts summary of the audited financial statements of CFE for the last two years is \\npresented in the following Table Annex 9.1.   \\n \\n \\n \\n                                                 \\n13 Source: Financial Statements and Independent Auditors‟ report (March 18, 2005) available at www.cfe.gob.mx \\n14 For a more detailed analysis, see also “Mexico. Infrastructure Public Expenditure Review (IPER)”, October \\n24,2005, Report No. 33483-MX, The World Bank.\\n\\n35 \\n \\nTable Annex 9.1: Summary of CFE’s financial statements \\n \\n1 \\n \\n2004 \\n2003 \\n2 \\nBalance Sheet \\n \\n \\n3 \\nTotal Assets \\n  631,035,138    634,782,687  \\n4 \\nTotal Liabilities \\n  271,897,251    249,703,521  \\n5 \\nTotal Equity \\n  359,137,887    385,079,166  \\n6 \\n \\n \\n \\n7 \\nIncome Statement \\n \\n \\n8 \\nRevenues from Energy Sales \\n  163,268,161    147,020,008  \\n9 \\nCosts and Expenses \\n  167,910,767    154,636,657  \\n10 \\nOperating Loss \\n    \\n(4,642,606) \\n    \\n(7,616,649) \\n11 \\nNet Comprehensive Financing Cost \\n    \\n(2,642,600) \\n  \\n(10,327,296) \\n12 \\nNon-cash transfers from the Federal Government to \\nsupplement deficient rates \\n   60,257,617  \\n   60,773,710  \\n13 \\nShortfall of duties over non-cash transfers from the Federal \\nGovernment \\n   12,882,598  \\n   13,686,151  \\n14 \\nIncome (Loss) \\n     6,186,334  \\n    \\n(6,336,840) \\n15 \\nExtraordinary Item \\n  \\n(14,500,000) \\n \\n16 \\nNet Loss \\n    \\n(8,313,666) \\n    \\n(6,336,840) \\n17 \\n \\n \\n \\n18 \\nStatement of Cash Flows \\n \\n \\n19 \\nNet Cash by operating activities before extraordinary item \\n   28,860,129  \\n   10,863,941  \\n20 \\n      Extraordinary Item \\n  \\n(14,500,000) \\n \\n21 \\nNet Cash by operating activities \\n   14,360,129  \\n   10,863,941  \\n22 \\nNet Cash by financing activities \\n        179,863  \\n11629725 \\n23 \\nNet Cash used in investing activities \\n  \\n(23,906,513) \\n  \\n(23,352,476) \\n24 \\nNet Decrease \\n    \\n(9,366,521) \\n       \\n(858,810) \\n25 \\n    Beginning of the Year \\n   18,776,747  \\n   19,635,557  \\n26 \\n    End of the Year \\n     9,410,226  \\n   18,776,747  \\nAll figures in thousands Mexican Pesos.  \\nSource:  www.cfe.gob.mx\\n\\n36 \\nProject Financing \\n \\nThe La Venta II wind energy project has been approved and assigned a budget allocation by the \\nGoM under the general scheme of Projects with Deferred Impact in the Budgetary Registry \\n(Proyectos de Impacto Diferido en el Registro de Gasto, PIDIREGAS), using the Financed \\nPublic Project (Obra Publica Financiada, OPF) modality.  The winning bidder for the power \\nplant „turn-key‟ contract assumes the financing and construction risk of the project.  CFE pays \\nthe contractor when the project is completed satisfactorily and received by CFE; CFE‟s payment \\nto the contractor is fully backed by government guarantees.  CFE then obtains long-term \\nfinancing for the amount of the OPF contract through the commercial financial markets, with the \\napproval of SHCP.  The details of the commercial financing option to be employed for La Venta \\nII have not yet been decided, but the company is exploring various options with financial \\ninstitutions.  CFE has received by May 2005 financing offers which, depending on the loan \\nduration period and repayment terms, would result in annual interest rates of about 7 to about 9 \\npercent.   \\n \\nFiscal Impact \\n \\nSince the World Bank is not a lender in this project, there are no fiscal impacts of Bank-lending \\nactivities.  The fiscal impact on the project will be related to the fee paid to the GoM on the \\npower plant as an asset.  Such a fee will be determined by SHCP in the future years depending \\non the overall profitability of the company.  However, emission reductions‟ sales from CFE to \\nthe Spanish Carbon Fund and the Bio-Carbon Fund will contribute positively to the revenue \\nstream of CFE and will influence positively either the equity of the company, or the fiscal \\nposition of the country. \\n \\nThere is, however, a broader fiscal impact because the wind energy project is financed through \\nPIDIREGAS.  The financial obligations under PIDIREGAS are being brought into the budget \\nprocess as the outlays for interest and amortization of previous years‟ projects are registered in \\nthe spending budget.  The fiscal impact of the La Venta II project will depend on the final \\nfinancing terms authorized by SHCP for the project.  For instance, a loan for the full project \\namount with a repayment period of 15 years, constant payments, and a fixed interest rate of 7 \\npercent to 9 percent, would require annual payments of about US$12.5million to US$14.1million \\nimpacting accordingly the country‟s budget (the loan is in practice repaid by CFE, however from \\nthe central government‟s perspective a contingent liability is created –in this case of probably \\nlow risk). \\n \\nLa Venta II Project Economic Analysis \\n \\nThe economic and financial analyses for La Venta II were done in April 2006, before ERPA \\nnegotiations took place, so they reflect the existing market conditions (i.e. CER prices) at that \\nprevious time. The two ERPAs (with the Spanish Carbon Fund and with the BioCarbon Fund) \\nwere signed on December 2006, and the terms agreed with CFE, which remain confidential, \\nreflected market conditions at that later date.\\n\\n37 \\nThe main economic benefits of the La Venta II wind energy project are: (i) the production of \\nelectricity; and (ii) the reduction of GHG emissions in the global atmosphere.  Other economic \\nbenefits, not quantified for the purposes of this analysis but useful in evaluating the project in a \\nqualitative manner as well, are: (i) local economic benefits of increased employment during \\nconstruction, operation and maintenance of the wind power plant; (ii) increased income from \\nland where the turbines are located --without altering the use of the land; (iii) better access to \\nagricultural land due to improved local infrastructure (roads, etc); (iv) accumulation of \\nexperience in the operation of large-scale wind power in Mexico and accompanying \\ndemonstration effects; (v) avoided local pollution from fossil-fuel alternatives (NOx, SOx, etc); \\n(vi) increased diversification in the fuel mix for electricity generation in the country. \\n \\nElectricity Generation (benefits).  Meeting the growing electricity demand of Mexico requires \\ninvestments in generating capacity and the various options to meet the growing demand are \\nexamined by CFE‟s planning division using sophisticated simulation models.  The economic \\nbenefits of electricity generation are set, for the purposes of this analysis, at the level of the \\navoided cost of generating electricity using other options.  CFE‟s project presentation to SHCP \\nimplies that the opportunity cost of such electricity would be in the range of 0.036 to 0.04 \\ncents/kWh.  Nevertheless, this is an estimate subject to important fuel costs assumptions that \\ncannot be predicted with accuracy over the long-term. \\n \\nGiven the significant exposure of the Mexican electricity generation to fossil fuels and \\nuncertainties surrounding the future costs for combustibles, the optimal (least-cost) system \\nexpansion solution could vary.  The estimated future costs for electricity generation in Mexico \\nare strongly dependent on assumptions regarding the economic costs of oil and natural gas and, \\nto a lesser extent, of coal.  CFE‟s planners use reference values provided by SENER, which in \\nturn elaborates such estimates with the assistance of the national petroleum company (Petróleos \\nMexicanos, PEMEX).  Future generation plants in Mexico, according to CFE‟s plans, should \\nmostly be natural gas cycle turbines (combined-, or open-), a technological option that has been \\nused extensively in the previous decade to serve the growing demand.  The estimates used for \\naverage prices for natural gas in 2005,2006, 2007 and 2008 were assumed to be in the range of 4 \\nto 5 US$/mBtu (it should be noted that in 2005 the average price for natural gas in the Henry \\nHub natural gas index exceeded this range by a significant margin).  The opportunity cost of \\n0.036 to 0.04 cents/kWh could therefore be an underestimate. \\n \\nIn addition, if data from a study15 done in the USA for the hedging value of wind due to gas price \\nvolatility is applied, there would be a premium hedge value of about 0.5-0.8 US cents/kWh \\navailable for wind projects.  Given the avoided cost of 4 cents/kWh this premium could be a \\nsignificant value.  The following table in the same study provides a range of the futures premium \\nfor gas for long term contracts.  For the specific project referenced, the hedging premium is \\nabout 0.37 to 0.59 UScents/kWh  \\n \\n                                                 \\n15 Bollinger and Wiser(2004) Available at: \\nhttp://calwea.org/Attached%20Documents/CALWEA_and_CBEA_comments_for_the_MPR_w\\norkshop_(final).pdf).\\n\\n38 \\nPeriod \\nLength \\n$/MMBtu \\n2004-2013 \\n10 years \\n5.11 \\n2004-2018 \\n15 years \\n5.42 \\n2004-2023 \\n20 years \\n5.92 \\n \\nReductions of GHG emissions (benefits).  The economic benefit of reducing emissions of GHG is \\nan issue of environmental externalities.  The economic value of reducing such emissions is \\nsubject to complex factors, for which current knowledge is far from certain.  The Kyoto Protocol \\nis indirectly creating a market value for such emissions reductions.  However, the nature of the \\nKyoto Protocol agreement, and the fact that not all countries are participating in the market \\ncreated by the Clean Development Mechanism, suggest that prices reflect only part of the actual \\neconomic value of GHG emissions reductions.  For the purposes of this economic analysis the \\nagreed values and terms between CFE and the carbon funds are used, but this could be a low \\nestimate of actual economic benefits. \\n \\nProject Economic Costs.  The main economic costs of the wind energy project are: (i) the \\ninvestment necessary for the construction of the project; and, (ii) the costs of operation and \\nmaintenance.  For the economic analysis all taxes (transfer payments) and debt service costs are \\nignored16. \\n \\nA summary of the main assumptions used for the economic analysis is available at the table \\nbelow: \\n \\nTable Annex 9.2: Key assumptions for the economic analysis \\n \\nRated Plant Capacity \\n85 MW \\nNet Capacity Factor \\n47.0%  \\nProject Lifetime \\n20 Years \\nCapital Cost17 \\n1,268 US$/kW \\nAnnual Electricity Produced \\n349,962,000  kWh \\nFixed Operation & Maintenance (O&M) Costs \\n10 US$/kW \\nVariable O&M Costs \\n0.001 US$/kWh \\nSite Owner Royalty (% of revenues) \\n1.5%  \\nInsurance (% of Equipment and Balance of Station Costs) \\n0.1%  \\nElectricity Price (c/kWh) \\n4 US$cents/kWh \\nEmissions Reductions (tCO2e/yr) \\n180,000 tCO2e/yr \\nEmissions Reductions Sales Period \\n10 Years \\nEmissions Reductions Price ($/tCO2e) \\n6.3 US$/tCO2e \\nValue of Bio Carbon Fund Emissions Sales (2017-2019) \\n945,000 US$ \\n                                                 \\n16 See “Handbook on Economic Analysis of Investment Operations”, chapter. 5, Belli P. et al, World Bank, January \\n26,1998. \\n17 Assumes a portion of the full cost of the transmission line in the capital cost, as it is expected that future wind  \\npower plants would also benefit from the interconnection line‟s capacity\\n\\n39 \\nBased on the above assumptions, the following results are obtained for a range of discount rates: \\n \\nTable Annex 9.3: Economic Net Present Values \\n \\nDiscount Rate \\nEconomic NPV \\nEconomic NPV without ER \\n8% \\n$23,995,163  \\n$14,508,892  \\n9% \\n$15,446,065  \\n$6,418,658  \\n10% \\n$7,930,110  \\n($671,135) \\n11% \\n$1,305,498  \\n($6,899,435) \\n12% \\n($4,547,717) \\n($12,383,618) \\n \\nTable Annex 9.3 shows the significance of the economic benefits of emissions reductions that \\nrender the project economically viable (note that economic benefits used for the analysis are \\nlikely to be conservative estimates). \\n \\nA sensitivity analysis on the value of the opportunity cost of electricity generated by the wind \\nenergy plant is presented in the following table.  The project‟s economic rates of return will be \\naffected significantly by the actual future costs of electricity generation in the system.  CFE \\nmight use the electricity generated by La Venta II in conjunction with nearby hydroelectric \\nplants to supply electricity during peak-time demand, thereby increasing the actual value of the \\nwind energy from La Venta II. \\n \\n \\nTable Annex 9.4: Sensitivity Analysis of Economic Rates of Return in relation to Electricity \\nOpportunity Costs. \\n \\n \\n \\nEconomic Rates of Return \\nElectricity Generation \\nOpportunity Cost (in US$ \\ncents/kWh) \\nEnergy Benefits and Carbon \\nEmissions Reductions \\nEnergy Benefits only \\n3.7 \\n10.0% \\n8.7% \\n3.9 \\n10.8% \\n9.5% \\n4.0 \\n11.2% \\n9.9% \\n4.2 \\n12.0% \\n10.7% \\n \\n \\nLa Venta II Project Financial Analysis \\n \\nCFE, under the PIDIREGAS scheme, will fully finance the La Venta II project using debt.  \\nUnder this special financial structure and using the assumptions in Table Annex 9.5 below, in \\naddition to those in Table Annex 9.2, CFE has a positive financial cash flow from the operation \\nof the plant year after year.\\n\\n40 \\nTable Annex 9.5 Assumptions for Financial Analysis \\n \\nFinancing Assumptions \\nDebt Contribution in Financing \\n100% \\nAmount \\n $113,865,000  \\nLoan Schedule Type \\nLevel Mortgage \\nDebt Percentage (%) \\n100% \\nInterest Rate (%) \\n8.0% \\nTerm (years) \\n20 \\nTax Rate (% of Net Asset Value) \\n9% \\n \\nThe table below presents the financial present value of the La Venta II project for CFE under a \\nrange of financial discount rates, for the above assumptions. \\n \\nTable Annex 9.6: Financial Value of La Venta II \\n \\nFinancial Discount Rate \\nFinancial NPV (US$) \\nFinancial NPV no ER sales(US$) \\n8% \\n16,772,155 \\n9,559,695 \\n9% \\n15,696,185 \\n8,886,218 \\n10% \\n14,726,086 \\n8,285,756 \\n11% \\n13,848,671 \\n7,748,635 \\n12% \\n13,052,667 \\n7,266,635 \\n \\nIn effect, due to PIDIREGAS that allows for full debt financing for the project in generally \\nfavorable terms, CFE enjoys a positive financial benefit from the project.  A sensitivity analysis \\nof the assumptions showed that as long as CFE has access to adequate financing terms, allowing \\nthe company to service the debt and its taxes with project revenues, it is likely to make a profit \\nfrom the project.  The analysis also shows that income from the selling of emissions reductions is \\nimportant to ensure the financial viability of the project.\\n\\n41 \\n \\nAnnex 10: Safeguards Policy Issues \\nMEXICO: Wind Umbrella (La Venta II) \\n \\nEnvironmental Issues \\n \\nThe project is located in the ejido La Venta, municipality of Juchitán de Zaragoza, a region \\nknown as the Istmo de Tehuantepec, in the state of Oaxaca. \\n \\nCFE has presented to SEMARNAT, as required by the Mexican norms, a full Environmental \\nImpact Assessment (EIA) for the La Venta II wind energy project, prepared by the Instituto de \\nEcología A.C. (available in Project files).  The EIA has been elaborated on the basis of a \\n„typical‟ wind project in the area.  SEMARNAT received the EIA on April 22, 2004 and \\napproved it on August 3, 2004.  \\n \\nThe EIA includes an analysis of impacts and presents measures to avoid, control, mitigate, or \\ncompensate any negative environmental impacts in an Environmental Management Plan (EMP), \\nduring both construction and operation phases of the project.  On the basis of the EIA, \\nenvironmental audits are planned to ensure compliance with the applicable norms of the project. \\n \\nThe relevant laws and norms applicable to the project, and used for the EMP, are: \\n \\nLaws:  \\n \\n\\uf0b7 General Law of Ecological Balance and Environmental Protection (Ley General del \\nEquilibrio Ecológico y la Protección al Ambiente). \\n\\uf0b7 Law of Ecological Balance of the State of Oaxaca (Ley del Equilibrio Ecológico del Estado \\nde Oaxaca). \\n\\uf0b7 General Law for the Prevention and Integrated Management of Waste (Ley General para la \\nPrevención y Gestión Integral de los Residuos). \\n\\uf0b7 General Law for the Sustainable Development of Forests (Ley General de Desarrollo \\nForestal Sustentable). \\n\\uf0b7 Law of National Waters (Ley de Aguas Nacionales). \\n\\uf0b7 Federal Law of Water Rights (Ley Federal de Derechos en Materia de Agua). \\n \\nRegulations: \\n \\n\\uf0b7 Of the General Law of Ecological Balance and Environmental Protection on issues of  \\n- \\nEnviromental Impact Assessment (Evaluación del Impacto Ambiental). \\n- \\nPrevention and Control of Atmospheric Contamination (Prevención y Control de la \\nContaminación de la Atmósfera). \\n- \\nHazardous Waste (Residuos Peligrosos). \\n\\uf0b7 Environmental Protection against Noise Pollution (Reglamento para la Protección del \\nAmbiente Contra la Contaminación Originada por la Emisión de Ruido). \\n\\uf0b7 Regulation of the Forest Law (Reglamento de la Ley Forestal). \\n\\uf0b7 Regulation of the Law of National Waters (Reglamento de la Ley de Aguas Nacionales).\\n\\n42 \\n\\uf0b7 Regulation on Ground Transportation of Hazardous Materials and Waste (Reglamento para \\nel Transporte Terrestre de Materiales y Residuos Peligrosos). \\n \\nOfficial Mexican Norms: \\n \\n\\uf0b7 NOM-001-ECOL-1996,- maximum allowed limits for discharges in water. \\n\\uf0b7 NOM-041-SEMARNAT-1999.- maximum allowed limits for emissions of polluting gases \\nfrom motor vehicles using gasoline. \\n\\uf0b7 NOM-50-SEMARNAT-1993, -NOM-045-SEMARNAT-1996.- maximum allowed limits for \\nemissions of vehicles diesel motors. \\n\\uf0b7 NOM-052-SEMARNAT-1993.- hazardous wastes. \\n\\uf0b7 NOM-053-ECOL/93.- hazardous wastes testing and toxicity. \\n\\uf0b7 NOM-054-SEMARNAT-1993.- incompatibilty of two or more materials established in \\nNOM-052-SEMARNAT-1993. \\n\\uf0b7 NOM-059-SEMARNAT-2001.- protection of native species of flora and fauna. \\n\\uf0b7 NOM-080-SEMARNAT-1994.- maximum allowed limits of noise pollution from motor \\nvehicles. \\n\\uf0b7 NOM-081-ECOL-1994.- maximum allowed limits of noise pollution from fixed sources . \\n \\nA list of general description of potential environmental impacts of the project is presented in the \\nfollowing table: \\n \\nGeneral Description of Environmental Impacts \\nPHASE \\n \\n \\nAIR QUALITY \\nSite preparation, \\nconstruction operation \\nand decommissioning  \\nVehicle use and machinery increase the concentration of CO, HC, NOx  \\nIncrease of dust due to vehicle traffic, transport of materials, civil works for \\nground leveling,  \\n \\nNOISE \\nSite preparation, \\nconstruction operation \\nand decommissioning \\nVehicle use, machinery and operation of wind turbines will increase the noise \\nlevel \\n \\nSOIL – GROUND \\nSite preparation, \\nconstruction operation \\nand decommissioning \\nCivil works for site preparation, in particular ground leveling, could result in \\nloss of soil.  Movement of heavy equipment could result in compacting and \\nloss of soil quality.  Discharges of oils during construction works from \\nvehicles and wind turbines could contaminate the soil. \\n \\nWATER \\nOperation \\nThe opening of access roads could affect water drainage \\n \\nVEGETATION \\nSite Preparation \\nCivil works for the construction of the power plant and access roads will \\nresult in loss of vegetation coverage \\n \\nFAUNA \\nSite preparation, \\nconstruction operation \\nand decommissioning \\nCivil works, the use of machinery and vehicles and the presence of personnel \\ncould affect the mortality of the project zones fauna.  This could take place \\nprimarily during the phases of preparation and construction when the number \\nof workers will be greater.  During operation and commissioning such \\nimpacts will be negligible. \\nDuring operation there is a risk of birds (native and migratory) colliding with\\n\\n43 \\nthe wind turbines. \\n \\nLANDSCAPE \\nOperation and \\nMaintenance \\nThe presence of wind turbines will have a visual impact on the landscape. \\nSource: Manifestacion de Impacto Ambiental Modalidad Particular. Proyecto Eolico La Venta II – \\nOaxaca. Diciembre 2003. Instituto de Ecologia A.C. \\nSEMARNAT authorized the execution of the project in 200418.  To comply with the terms and \\nconditions of the authorization, an EMP is in place.  In summary the EMP includes: \\n \\n\\uf0b7 Program of Environmental Safeguarding (Programa de Vigiliancia Ambiental) that \\nintegrates all measures of prevention, reduction and/or compensation of adverse \\nenvironmental impacts identified for every stage of the project, specifying the applicable \\nactivities and procedures. \\n\\uf0b7 Reforestation program that will consider the use of native species of the region in the \\nproject site and in proportion similar to those affected by the project. \\n\\uf0b7 Works to control erosion and reconstitute the ground in all areas where organic ground is \\nremoved during clearing for civil works. \\n\\uf0b7 Program to monitor resident and migratory birds in the zone of influence of the project. \\n \\nKey Environmental Safeguards issues \\n \\nSEMARNAT, as a matter of policy, supports projects that use renewable energy sources.  Wind \\nenergy projects are not covered explicitly by the national legislation in Mexico and SEMARNAT \\nin its review of the project conducted a broad consultation with various entities and institutes \\n(Dirección General de la Vida Silvestre, Comisión Nacional de Biodiversidad, Instituto Estatal \\nde Ecología del Estado de Oaxaca, Coordinación de Porgramas de Conservación Centro de \\nMéxico) and received favorable opinions on the EIA presented by CFE. \\n \\nThe key environmental impact concerns the potential collision of birds (native and migratory) \\nwith the wind turbines during operation.  Based on international practices for wind projects, \\nmitigation measures for this issue aim to make visible the wind turbines to the birds, by painting \\nthe blades of the turbines appropriately.  Other measures to be employed in the project, in \\naccordance with international criteria, are: use of tubular structures for the wind turbines; \\nmonitoring and registering of dead birds, and quick removal of any dead birds to avoid ravens; \\nand, ensuring that the height of turbines does not exceed 150m.  CFE has been implementing \\nsince 2004, as presented in the EIA, a program of monitoring of the birds in the zone of influence \\nof the project. In addition to the above, CFE is planning to implement a radar system that would \\ndetect the passage of big numbers of migratory birds, so that it can temporary suspend the \\nrotation of wind turbines to avoid collisions.  This radar has been purchased by the Instituto de \\nEcología (CFE‟s contractor for the avian monitoring).  In addition, CFE is developing a plan to \\ntrain observers that could advise the plant operator to shut down in advance specific turbines that \\nmight present risk to incoming birds. \\n \\n                                                 \\n18 Authorization by SEMARNAT by the Dirección General de Impacto y Riesgo Ambiental No. \\nS.G.P.A./DGIRA.DEI. 1836, July 29 2004.\\n\\n44 \\nBased on the monitoring plan carried out by CFE since 2004, it appears that the bird migration in \\nthe Project‟s zone of influence is concentrated during a period of only three weeks, usually in \\nOctober.  Observation of spring bird migration carried out in 2006 did not register birds \\nmigrating through the zone of influence (the prevailing winds appear to hinder the passage of \\nbirds from the area during that season).  In addition, the monitoring program noted that \\nmigratory birds passing around the project zone do not fly during night time.   Based on these \\nobservations, a shutdown plan would be at a maximum implemented over a period of three \\nweeks in October, and mostly during daytime.  During that time period it is possible that by \\nshutting down only selected wind turbines the avian collision risk will be mitigated. \\n \\nIn terms of the economic/financial effects to the project if such a plan is implemented, it should \\nbe noted that during the month of October the plant has an output of about 8 percent of its total \\nannual output.  If shutdowns were to be implemented during the whole period of three weeks \\nduring daytime, the reduction of total output could be around 3 percent.  However, it appears that \\nonly a small number of the turbines will have to be stopped and most likely only for a few hours \\nduring daytime –if the radar system and trained observers are employed.  Finally, it is expected \\nthat CFE would schedule maintenance activities of the plant around that period, so the overall \\neconomic effect while negative it could be considered negligible.  \\n \\nSEMARNAT will use the experience from the proposed project during the operation phase to \\nevaluate impacts on the migratory birds in the zone and will issue appropriate norms in similar \\nfuture projects in the country. \\n \\nThe project triggers O.P. 4.01 (Environmental Assessment).  \\n \\nPublic disclosure \\n \\nThe EIA assessment was posted in SEMARNAT‟s website in August 2004 and is also posted on \\nthe World Bank‟s infoshop website.  SEMARNAT based its evaluation and approval of the EIA \\non consultations held with General Direction of Wild-Life (Dirección General de la Vida \\nSilvestre, DGVS), the National Biodiversity Commission (Comisión Nacional de Biodiversidad, \\nCONABIO), the State Institute of Ecology of Oaxaca (Instituto Estatal de Ecología del Estado \\nde Oaxaca) and the Coordination of Conservation Programs in Central Mexico (DUMAC). \\n \\nSocial Issues \\n \\nThe project triggers OD 4.20 as it is developed in indigenous peoples land.  The project is \\nlocated in an area were the system of ejidos (communal land) is in place.  The ejido was founded \\nin 1951 with 5,815 hectares and each ejidatario was provided with a maximum of 10 Ha. \\nAccording to the National Geography and Statistics Institute‟s (INEGI), the ejido has a \\npopulation of 1,814 people. The inhabitants of the ejido la Venta belong to the ethnic group \\nZapoteco, which is one of the majority ethnic groups of the state of Oaxaca (16 groups total). \\nAlthough the ejido‟s population has stopped speaking Zapoteco, they maintain the regional \\nfestive traditions and identify themselves as Zapotecos and Mexicans.\\n\\n45 \\nMore than half of the ejidatarios (55 percent) of La Venta are employed in the economy‟s \\nprimary sector, 30 percent of in the tertiary sector, and a 12 percent is dedicated to secondary \\nsector.  In this ejido, zapoteco peasants have been traditionally dedicated to agriculture, mainly \\nto sugar cane crop and other products for family consumption such as corn, beans and pumpkin. \\nWith the fall of sugar prices, sugar cane cultivation is no longer the main economic activity; it \\nhas been replaced by cattle raising, and cultivation of sorghum crop, watermelons, peanuts, \\nmelons, cucumbers and sesame which are sold in regional markets. Because of the strong winds, \\nland is being cultivated only during the spring/summer cycle, and even in irrigated land the crop \\noutputs are below the national average. The land where the wind turbines are to be installed is \\nbeing used for extensive cattle raising, although in the past it has been used for agricultural \\npurposes (INEGI 2001).  \\n \\nAccording to INEGI the socioeconomic conditions of the ejido are: \\n \\nOccupied Population in ejido La Venta \\n \\nLocalita \\nOccupied \\nPopulation \\nLess than  \\nmw \\nBetween \\nand \\n2 \\nmw \\nBetween \\n2 and 5 \\nmw \\nBetween \\n6 and 10 \\nmw \\nMore \\nthan \\n10 \\nmw \\nPopulation \\nwithout \\njob \\nPopulation \\nnot receiving  \\nremuneration \\nLa Venta \\n486 \\n33 \\n273 \\n107 \\n18 \\n3 \\n4 \\n42 \\nTotal \\n1814 \\n \\n \\n \\n \\n \\n \\n \\nmw= minimun wage \\n \\nCommunity Organization \\n \\nThe ejido is organized under the norms established by the Agrarian Law, and the land control is \\ndetermined and headed by the ejidatario‟s assembly. Every three years, 326 ejidatarios elect \\nrepresentative authorities, 12 persons in all.  These positions are exercised with out salary or \\nother compensation; representation is a duty of all citizens that belong to the ejido. A municipal \\ndelegate is elected by the assembly of the ejido to act as a link with the municipality for official \\npurposes. For the matters that have to do with the usufruct of land, the highest authority is the \\nejidal commissioner.  The following table describes the community organization for matter \\nrelated to land ownership and rights. \\n \\nComunal Property Commission  \\nPresident \\nSecretary \\nTreasurer \\nVigilante Council \\n \\nAuxiliar Judge \\n \\nMunicipal Delegate \\nLink \\nbetween \\nthe \\nejido \\nand \\nthe \\nmunicipality. \\n \\n \\nCommunity and stakeholders Consultation \\n \\nBased on interviews with the ejidal commissioner and 20 ejidatarios of la Venta (April 2005), \\nthe ejidatario‟s perception about the project and the installation of wind turbines in their land is\\n\\n46 \\npositive --it is seen as a good opportunity to obtain additional income. The ejidatarios \\ninterviewed exposed in detail the negotiations that have been taking place with the CFE since \\n2001.  \\n \\nThe majority of ejidatarios participated in early meetings with the CFE.  At the beginning of the \\ndialogue, the ejidatarios had little interest in the project, due to the existence of private sponsors \\nin the region that promoted wind energy installation in communal lands and promised very \\nattractive (and potentially speculative) rents for the land use. During the initial negotiations with \\nCFE the ejidatarios were requesting free electricity service, cleaning of a nearby river, schools \\nrehabilitation, water drainage works, and paved streets.   \\n \\nIn 2002, in response to community leaders‟ and members‟ concerns about the lack of \\ninformation on wind energy project developments, the State Government of Oaxaca, through the \\nSecretariat  of Industrial and Commercial Development (SEDIC) requested support from USAID \\nto conduct a study on wind energy.  The study would provide ejidos and others communities in \\nthe Isthmus of Tehuantepec region with information on the typical magnitude of payments, \\nstructure of agreements, and means of verifying actual generation or power sales revenues, and \\ntypes of contracts typically used in the US and elsewhere between wind power projects \\ndevelopers and landowners.  The study has been prepared for USAID Mexico and the State \\nGovernment of Oaxaca and SEDIC by Winrock International, Global Energy Concepts, the \\nAmerican Wind Energy Association (AWEA), and the Mexican Rural Development Foundation \\n(FMDR) –available in project files. \\n \\nCFE continued negotiations with land owners and ejidatarios, for the rights to construct the plant \\non the basis of international practices.  As a result of these negotiations, ejidatarios will receive \\npayments for the energy generated and invoiced by the wind plant --in line with international \\npractices. It should be noted that ejidatarios will receive the compensation from the energy plant \\nand will also be able to continue with the farming activities in their land. \\n \\nThe project will benefit directly the ejidatarios that own land in the project‟s zone of influence \\nand indirectly all the ejidatarios of La Venta II according to a plan of social works negotiated \\nbetween CFE and the local authorities of the ejido.  The plan includes: (i) the creation of a trust \\nfund (created in December 2005 and capitalized with 7million Mexican Pesos) to provide public \\nlighting, paving of the principal streets of the ejido and computers for the secondary school; and \\n(ii) the creation of an employment agency that would give priority to the ejidatarios in the works \\nduring the installation of the wind turbines.  The plan will be executed by the authorities of the \\nejido with the support of CFE, the Ministry of Social Development (Secretaría de Desarrollo \\nSocial, SEDESOL) and the Ministry of Agriculture, Rural Development, Fishing and Food \\n(Secretaría de Agricultura, Ganadería, Desarrrollo Rural, Pesca y Alimentación). \\n \\nTwo hundred ejidatarios, out of a total 326, are participating in the project; 1,300 out of 5,815 \\nhectares in the ejido will be incorporated to the CFE project and the land is registered in the \\nNational Agrarian Registry.  In July 2004, most ejidatarios with rights to the ejido La Venta, \\nsigned an agreement for the construction of the wind power project La Venta II for a 100MW \\ncapacity and a surface of 2088.54 hectares (copy of the notarized agreement is available in\\n\\n47 \\nproject files). The contract will last 30 years and will be reviewed annually for any necessary \\nadjustments.  The agreed payments are as follows: \\n \\nPayment Criteria \\nAnnual in Mexican pesos \\nPiece of land (parcela)within the polygon  \\nlot of influence without road construction, \\nwind generators, offices or substations, \\npayment by hectare. \\n1,000 \\nRoad constructed by hectare \\n13,100 \\nPayment by wind generator  *minimum \\n850 KW \\n8,000 \\nPiece of land (parcela) out of the polygon  \\nlot project influence with a surface smaller \\nthan 10 ha., total payment \\n18,880 \\nPiece of land (parcela) out of the polygon \\nor building lot of influence with more than \\n10 hectares, payment by hectare. \\n100 \\n \\nThere are, however, eight ejidatarios that have not signed the assembly agreement. The design of \\nthe project and the execution of the civil works has been modified to ensure that the land of the \\nnon-signatories is not affected by the project. \\n \\nCultural Property \\n \\nOn 2004  the ejidal authorities of la Venta asked the National Antrhopology and History Institute \\n(INAH) to visit area to establish the non-existence of archeological remains. INAH prepared a \\nreport about the exploration indicating that archeological remains were found in the Rastro \\nTolistoque site, which is distant from the project‟s location. INAH extended to the ejido‟s \\nauthorities the report of the findings and the location of the archeological site. The Protected \\nNatural Areas Commission (CONANP) authorizes the ejido to keep and maintain the area called \\nOjo de Agua (1,306 ha) located in the Tolistoque hill.\\n\\n48\\nAnnex 11: Project Preparation and Supervision \\nMEXICO: Wind Umbrella (La Venta II) \\n \\n \\nPlanned \\nActual \\nPCN review19 \\n07/15/2002 \\n02/14/2003 \\nInitial PID to PIC \\n \\n \\nInitial ISDS to PIC \\n \\n \\nAppraisal \\n01/27/2006 \\n05/25/2006 \\nNegotiations \\n01/30/2006 \\n12/12/2006 \\nBoard/RVP approval \\n \\n \\nPlanned date of effectiveness \\nNovember 2006 \\n12/12/2006 \\nPlanned date of mid-term review \\n \\n \\nPlanned closing date \\n12/31/2016 \\n12/31/2019 \\n \\nKey institutions responsible for preparation of the project: CFE, the project‟s sponsor. \\n \\nBank staff and consultants who worked on the project included: \\n \\nName \\nTitle \\nUnit \\nDemetrios Papathanasiou \\nEnergy Economist – Task \\nManager \\nLCSFE \\nFernando Cubillos \\nSr. Technical Specialist – \\nDeal Manager \\nENVCF \\nFlavia Rosembuj \\nSr Counsel \\nLEGCF \\nPaola Solidoro \\nConsultant –Carbon Finance \\nENVCF \\nRaffaella Maria Lisboa Mota \\nETC Consultant \\nLCSFE \\nTania Carrasco \\nSocial Specialist - Consultant \\nLCSES \\nDora Patricia Andrade Salaverria \\nEnvironmental Specialist - \\nConsultant \\n \\n \\n \\n \\n \\n \\nBank funds expended to date on project preparation: \\n1. Bank resources: US$82,600 \\n2. Trust funds:0 \\n3. Total: US$82,600 \\n \\nEstimated Approval and Supervision costs: \\n1. Remaining costs to approval: US$30,000  \\n2. Estimated annual supervision cost: US$80,000  \\n                                                 \\n19 For Carbon Offset project PCN review.  This is replaced by the approval by ENVCF of the Project Idea Note \\n(PIN).\\n\\n49\\nAnnex 12: Documents in the Project File \\nMEXICO: Wind Umbrella (La Venta II) \\n \\n \\n\\uf0b7 Manifestación de Impacto Ambiental Modalidad Particular. Proyecto Eólico La Venta II \\n– Oaxaca. Diciembre 2003. Instituto de Ecología A.C. \\n\\uf0b7 Mexico-La Venta II Carbon Financing wind energy project.  Social Assessment -- Tania \\nCarrasco, Consultant. May 2005  \\n \\n\\uf0b7 Copy of notarized agreement between CFE and land owners regarding land use and \\ncompensation for the wind energy plant. \\n \\n\\uf0b7 Información Sobre Arrendamiento de Tierras y Potencial de Generación de Empleos \\nRelacionado con el Desarrollo de Proyectos Eoloeléctricos en México, April 2003. \\nWinrock Internacional, Global Energy Concepts, American Wind Energy Association. \\n \\n\\uf0b7 Feasibility Study of the La Venta II 50 MW Wind Power Project in Oaxaca, Mexico. \\nApril 2003.  Global Energy Concepts, LLC.  Funded by USAID \\n \\n\\uf0b7 Bases de Licitación 132 CE La Venta II \\n \\n\\uf0b7 Educational leaflet on wind energy for the local population\\n\\n50\\nAnnex 13: Statement of Loans and Credits \\nMEXICO: Wind Umbrella (La Venta II)\\n\\n51\\nAnnex 14: Country at a Glance \\nMEXICO: Wind Umbrella (La Venta II)\\n\\n52\\n\\n53\\nAnnex 15: Maps \\nmexico: Wind Umbrella (La Venta II)\""
      ]
     },
     "execution_count": 70,
     "metadata": {},
     "output_type": "execute_result"
    }
   ],
   "source": [
    "from langchain.document_loaders import PyMuPDFLoader\n",
    "\n",
    "loader = PyMuPDFLoader(pdf_fname)\n",
    "docs = loader.load()\n",
    "text = \"\\n\\n\".join([doc.page_content for doc in docs])\n",
    "text"
   ]
  },
  {
   "cell_type": "code",
   "execution_count": 76,
   "id": "0d79acc3",
   "metadata": {},
   "outputs": [
    {
     "name": "stderr",
     "output_type": "stream",
     "text": [
      "INFO: HTTP Request: POST https://api.openai.com/v1/chat/completions \"HTTP/1.1 200 OK\"\n"
     ]
    },
    {
     "name": "stdout",
     "output_type": "stream",
     "text": [
      "future costs of these fuels, the economic benefits of the La Venta II project could be higher than estimated if fossil fuel prices increase. The analysis assumes a conservative estimate of US$0.04/kWh for the opportunity cost of electricity generation, which is used to calculate the economic benefits of the project.\n",
      "\n",
      "Greenhouse Gas Emissions Reductions (benefits). The project will reduce approximately 190,000 tons of CO2 equivalent annually by displacing electricity generated from fossil fuels with wind energy. The economic value of these emissions reductions is based on the market price for carbon credits, which was estimated at US$10 per ton of CO2e at the time of analysis. This provides an additional revenue stream that enhances the project's economic viability.\n",
      "\n",
      "The main economic costs of the wind energy project are: (i) the investment necessary for the construction of the project; and (ii) the costs of operation and maintenance.\n",
      "\n",
      "The cost-benefit analysis for the La Venta II project shows that the project has a positive Net Present Value (NPV) for a discount rate of 11 percent if the economic benefits of GHG emission reductions are taken into account. The analysis also shows that without the emissions reductions, the project would return a positive economic NPV only at a 9 percent discount rate.\n",
      "\n",
      "The economic rate of return of the La Venta II project is highly sensitive to the estimates regarding the future costs of electricity generation in the system. The costs for electricity generation in the Mexican system are influenced significantly by the cost of natural gas and oil. It is estimated that at a reference price of US$46 per barrel of crude oil, the average system generation cost is about US$0.045 per kWh.\n",
      "\n",
      "Overall, the La Venta II project is economically viable, particularly when considering the additional benefits from carbon finance. The project's success could serve as a model for further wind energy development in Mexico, contributing to the diversification of the country's energy mix and reducing its reliance on fossil fuels."
     ]
    },
    {
     "ename": "TypeError",
     "evalue": "can only concatenate str (not \"NoneType\") to str",
     "output_type": "error",
     "traceback": [
      "\u001b[31m---------------------------------------------------------------------------\u001b[39m",
      "\u001b[31mTypeError\u001b[39m                                 Traceback (most recent call last)",
      "\u001b[36mCell\u001b[39m\u001b[36m \u001b[39m\u001b[32mIn[76]\u001b[39m\u001b[32m, line 27\u001b[39m\n\u001b[32m     24\u001b[39m     display(Markdown(md_output))\n\u001b[32m     25\u001b[39m     \u001b[38;5;28;01mreturn\u001b[39;00m md_output\n\u001b[32m---> \u001b[39m\u001b[32m27\u001b[39m \u001b[43mstream_markdown_response\u001b[49m\u001b[43m(\u001b[49m\u001b[43m)\u001b[49m\n",
      "\u001b[36mCell\u001b[39m\u001b[36m \u001b[39m\u001b[32mIn[76]\u001b[39m\u001b[32m, line 21\u001b[39m, in \u001b[36mstream_markdown_response\u001b[39m\u001b[34m()\u001b[39m\n\u001b[32m     19\u001b[39m     \u001b[38;5;28;01mif\u001b[39;00m \u001b[38;5;28mhasattr\u001b[39m(chunk.choices[\u001b[32m0\u001b[39m].delta, \u001b[33m\"\u001b[39m\u001b[33mcontent\u001b[39m\u001b[33m\"\u001b[39m):\n\u001b[32m     20\u001b[39m         token = chunk.choices[\u001b[32m0\u001b[39m].delta.content\n\u001b[32m---> \u001b[39m\u001b[32m21\u001b[39m         \u001b[43mmd_output\u001b[49m\u001b[43m \u001b[49m\u001b[43m+\u001b[49m\u001b[43m=\u001b[49m\u001b[43m \u001b[49m\u001b[43mtoken\u001b[49m\n\u001b[32m     22\u001b[39m         \u001b[38;5;28mprint\u001b[39m(token, end=\u001b[33m\"\u001b[39m\u001b[33m\"\u001b[39m)\n\u001b[32m     24\u001b[39m display(Markdown(md_output))\n",
      "\u001b[31mTypeError\u001b[39m: can only concatenate str (not \"NoneType\") to str"
     ]
    }
   ],
   "source": [
    "from openai import OpenAI\n",
    "from IPython.display import Markdown, display\n",
    "\n",
    "client = OpenAI(api_key=os.environ[\"OPENAI_API_KEY\"])\n",
    "\n",
    "def stream_markdown_response():\n",
    "    md_output = \"\"\n",
    "    response = client.chat.completions.create(\n",
    "        model=\"gpt-4o\",\n",
    "        messages=[\n",
    "            {\"role\": \"system\", \"content\": \"You are a helpful assistant that extracts keywords, acronyms, and summaries from technical PDFs.\"},\n",
    "            {\"role\": \"user\", \"content\": text[:100_000]}\n",
    "        ],\n",
    "        stream=True,\n",
    "        temperature=0.2\n",
    "    )\n",
    "\n",
    "    for chunk in response:\n",
    "        if hasattr(chunk.choices[0].delta, \"content\"):\n",
    "            token = chunk.choices[0].delta.content\n",
    "            md_output += token\n",
    "            print(token, end=\"\")\n",
    "    \n",
    "    display(Markdown(md_output))\n",
    "    return md_output\n",
    "\n",
    "stream_markdown_response()"
   ]
  },
  {
   "cell_type": "code",
   "execution_count": 74,
   "id": "d99a426d",
   "metadata": {},
   "outputs": [
    {
     "data": {
      "text/plain": [
       "103239.20000000001"
      ]
     },
     "execution_count": 74,
     "metadata": {},
     "output_type": "execute_result"
    }
   ],
   "source": [
    "len(text)*.8"
   ]
  },
  {
   "cell_type": "code",
   "execution_count": 81,
   "id": "80525f5e",
   "metadata": {},
   "outputs": [
    {
     "name": "stdout",
     "output_type": "stream",
     "text": [
      " \n",
      " \n",
      "  Document of \n",
      "The World Bank \n",
      " \n",
      "FOR OFFICIAL USE ONLY \n",
      " \n",
      "Report No: 52920-MX  \n",
      " \n",
      " \n",
      " \n",
      " \n",
      "PROJECT APPRAISAL DOCUMENT \n",
      " \n",
      "ON A \n",
      " \n",
      "PROPOSED PURCHASE OF EMISSIONS REDUCTIONS \n",
      " \n",
      "BY THE SPANISH CARBON FUND AND THE BIO CARBON FUND \n",
      " \n",
      "IN THE AMOUNT OF  \n",
      "US$ 17,473,211 \n",
      " \n",
      "FROM THE \n",
      " \n",
      "COMISION FEDERAL DE ELECTRICIDAD \n",
      "(MEXICO) \n",
      " \n",
      "FOR THE \n",
      " \n",
      "WIND UMBRELLA (LA VENTA II) PROJECT \n",
      " \n",
      " \n",
      "April 24, 2006 \n",
      " \n",
      " \n",
      "This document has a restricted distribution and may be used by recipients only in the \n",
      "performance of their official duties.  Its contents may not otherwise be disclosed without World \n",
      "Bank authorization. \n",
      " \n",
      "Public Disclosure Authorized\n",
      "Public Disclosure Authorized\n",
      "Public Disclosure Authorized\n",
      "Public Disclosure Authorized\n",
      "Public Disclosure Authorized\n",
      "Public Disclosure Authorized\n",
      "Public Disclosure Authorized\n",
      "Public Disclosure Authorized\n",
      "\n"
     ]
    }
   ],
   "source": [
    "import requests\n",
    "from pathlib import Path\n",
    "from tempfile import NamedTemporaryFile\n",
    "from llama_index.readers.file import PyMuPDFReader\n",
    "from llama_index.core.schema import Document\n",
    "\n",
    "def download_pdf_to_file(url: str) -> Path:\n",
    "    \"\"\"Download a PDF and write it to a temp file. Return the file path.\"\"\"\n",
    "    response = requests.get(url)\n",
    "    if response.status_code != 200:\n",
    "        raise Exception(f\"Failed to download {url}\")\n",
    "\n",
    "    temp_file = NamedTemporaryFile(delete=False, suffix=\".pdf\")\n",
    "    temp_file.write(response.content)\n",
    "    temp_file.flush()\n",
    "    return Path(temp_file.name)\n",
    "\n",
    "def parse_pdf_with_llamaindex(file_path: Path, metadata: dict = None) -> list[Document]:\n",
    "    \"\"\"Use PyMuPDFReader to parse a PDF from file path.\"\"\"\n",
    "    reader = PyMuPDFReader()\n",
    "    documents = reader.load_data(file_path)\n",
    "\n",
    "    if metadata:\n",
    "        for doc in documents:\n",
    "            doc.metadata.update(metadata)\n",
    "\n",
    "    return documents\n",
    "\n",
    "# --- Usage Example ---\n",
    "url = \"https://documents1.worldbank.org/curated/en/995361468056343658/pdf/529200PAD0P0801for0disclosure0final.pdf\"\n",
    "file_path = download_pdf_to_file(url)\n",
    "documents = parse_pdf_with_llamaindex(file_path, metadata={\"source\": url})\n",
    "\n",
    "print(documents[0].text[:1000])\n"
   ]
  },
  {
   "cell_type": "code",
   "execution_count": 83,
   "id": "ced18cd3",
   "metadata": {},
   "outputs": [
    {
     "name": "stdout",
     "output_type": "stream",
     "text": [
      "✅ Markdown saved to output_pymupdf.md\n"
     ]
    }
   ],
   "source": [
    "def save_documents_to_markdown(documents: list[Document], output_md_path: str):\n",
    "    \"\"\"Concatenate parsed Document text and save it to a Markdown file.\"\"\"\n",
    "    full_text = \"\\n\\n\".join(doc.text for doc in documents)\n",
    "    Path(output_md_path).write_text(full_text, encoding=\"utf-8\")\n",
    "    print(f\"✅ Markdown saved to {output_md_path}\")\n",
    "\n",
    "save_documents_to_markdown(documents, \"output_pymupdf.md\")"
   ]
  },
  {
   "cell_type": "code",
   "execution_count": 84,
   "id": "3fbedf9d",
   "metadata": {},
   "outputs": [
    {
     "name": "stderr",
     "output_type": "stream",
     "text": [
      "WARNING: 'doc_id' is deprecated and 'id_' will be used instead\n"
     ]
    },
    {
     "name": "stdout",
     "output_type": "stream",
     "text": [
      "Warning: No languages specified, defaulting to English.\n",
      "✅ Markdown saved to output_unstructured_li.md\n"
     ]
    }
   ],
   "source": [
    "import requests\n",
    "from pathlib import Path\n",
    "from tempfile import NamedTemporaryFile\n",
    "from llama_index.readers.file import UnstructuredReader\n",
    "from llama_index.core.schema import Document\n",
    "\n",
    "def download_pdf_to_file(url: str) -> Path:\n",
    "    \"\"\"Download a PDF from a URL and save it to a temporary file.\"\"\"\n",
    "    response = requests.get(url)\n",
    "    response.raise_for_status()\n",
    "    temp_file = NamedTemporaryFile(delete=False, suffix=\".pdf\")\n",
    "    temp_file.write(response.content)\n",
    "    temp_file.flush()\n",
    "    return Path(temp_file.name)\n",
    "\n",
    "def parse_pdf_exclude_tables(file_path: Path, metadata: dict = None) -> list[Document]:\n",
    "    \"\"\"Parse the PDF using UnstructuredReader and exclude tables.\"\"\"\n",
    "    reader = UnstructuredReader()\n",
    "    documents = reader.load_data(file_path)\n",
    "\n",
    "    # Filter out table elements (Unstructured tags them with metadata)\n",
    "    filtered_docs = [doc for doc in documents if doc.metadata.get(\"category\") != \"Table\"]\n",
    "\n",
    "    if metadata:\n",
    "        for doc in filtered_docs:\n",
    "            doc.metadata.update(metadata)\n",
    "\n",
    "    return filtered_docs\n",
    "\n",
    "def save_documents_to_markdown(documents: list[Document], output_md_path: str):\n",
    "    \"\"\"Save parsed document text (excluding tables) to markdown file.\"\"\"\n",
    "    full_text = \"\\n\\n\".join(doc.text for doc in documents)\n",
    "    Path(output_md_path).write_text(full_text, encoding=\"utf-8\")\n",
    "    print(f\"✅ Markdown saved to {output_md_path}\")\n",
    "\n",
    "# --- Usage Example ---\n",
    "url = \"https://documents1.worldbank.org/curated/en/995361468056343658/pdf/529200PAD0P0801for0disclosure0final.pdf\"\n",
    "pdf_file = download_pdf_to_file(url)\n",
    "docs = parse_pdf_exclude_tables(pdf_file, metadata={\"source\": url})\n",
    "save_documents_to_markdown(docs, \"output_unstructured_li.md\")\n"
   ]
  },
  {
   "cell_type": "markdown",
   "id": "2d523f1b",
   "metadata": {},
   "source": [
    "## PDFplumber"
   ]
  },
  {
   "cell_type": "code",
   "execution_count": null,
   "id": "786bec0e",
   "metadata": {},
   "outputs": [
    {
     "data": {
      "image/png": "[encoded data removed]",
      "text/plain": [
       "<pdfplumber.display.PageImage at 0x7e345cdb13a0>"
      ]
     },
     "execution_count": 86,
     "metadata": {},
     "output_type": "execute_result"
    }
   ],
   "source": [
    "import pdfplumber\n",
    "\n",
    "pdf = pdfplumber.open(pdf_fname)"
   ]
  },
  {
   "cell_type": "code",
   "execution_count": 109,
   "id": "57d1a848",
   "metadata": {},
   "outputs": [
    {
     "data": {
      "image/png": "[encoded data removed]",
      "text/plain": [
       "<pdfplumber.display.PageImage at 0x7e34556ca450>"
      ]
     },
     "execution_count": 109,
     "metadata": {},
     "output_type": "execute_result"
    }
   ],
   "source": [
    "p3 = pdf.pages[3]\n",
    "im = p3.to_image()\n",
    "im"
   ]
  },
  {
   "cell_type": "code",
   "execution_count": 110,
   "id": "7c8f4dab",
   "metadata": {},
   "outputs": [
    {
     "data": {
      "image/png": "[encoded data removed]",
      "text/plain": [
       "<pdfplumber.display.PageImage at 0x7e34556ca450>"
      ]
     },
     "execution_count": 110,
     "metadata": {},
     "output_type": "execute_result"
    }
   ],
   "source": [
    "im.reset().debug_tablefinder()"
   ]
  },
  {
   "cell_type": "code",
   "execution_count": 107,
   "id": "7690409f",
   "metadata": {},
   "outputs": [],
   "source": [
    "table_settings = {\n",
    "    \"vertical_strategy\": \"lines\",\n",
    "    \"horizontal_strategy\": \"text\",\n",
    "    \"snap_y_tolerance\": 6,\n",
    "    \"intersection_x_tolerance\": 15\n",
    "}"
   ]
  },
  {
   "cell_type": "code",
   "execution_count": 108,
   "id": "ae829bbb",
   "metadata": {},
   "outputs": [
    {
     "data": {
      "image/png": "[encoded data removed]",
      "text/plain": [
       "<pdfplumber.display.PageImage at 0x7e345552da30>"
      ]
     },
     "execution_count": 108,
     "metadata": {},
     "output_type": "execute_result"
    }
   ],
   "source": [
    "im.reset().debug_tablefinder(table_settings)"
   ]
  },
  {
   "cell_type": "code",
   "execution_count": 113,
   "id": "27e51621",
   "metadata": {},
   "outputs": [
    {
     "data": {
      "text/html": [
       "<div>\n",
       "<style scoped>\n",
       "    .dataframe tbody tr th:only-of-type {\n",
       "        vertical-align: middle;\n",
       "    }\n",
       "\n",
       "    .dataframe tbody tr th {\n",
       "        vertical-align: top;\n",
       "    }\n",
       "\n",
       "    .dataframe thead th {\n",
       "        text-align: right;\n",
       "    }\n",
       "</style>\n",
       "<table border=\"1\" class=\"dataframe\">\n",
       "  <thead>\n",
       "    <tr style=\"text-align: right;\">\n",
       "      <th></th>\n",
       "      <th>0</th>\n",
       "      <th>1</th>\n",
       "      <th>2</th>\n",
       "      <th>3</th>\n",
       "      <th>4</th>\n",
       "      <th>5</th>\n",
       "      <th>6</th>\n",
       "      <th>7</th>\n",
       "      <th>8</th>\n",
       "      <th>9</th>\n",
       "      <th>10</th>\n",
       "      <th>11</th>\n",
       "      <th>12</th>\n",
       "    </tr>\n",
       "  </thead>\n",
       "  <tbody>\n",
       "    <tr>\n",
       "      <th>0</th>\n",
       "      <td>Date: April 24, 2006\\nCountry Director: Isabel...</td>\n",
       "      <td>None</td>\n",
       "      <td>None</td>\n",
       "      <td>None</td>\n",
       "      <td>None</td>\n",
       "      <td>Team Leader: Demetrios Papathanasiou\\nSectors:...</td>\n",
       "      <td>None</td>\n",
       "      <td>None</td>\n",
       "      <td>None</td>\n",
       "      <td>None</td>\n",
       "      <td>None</td>\n",
       "      <td>None</td>\n",
       "      <td>None</td>\n",
       "    </tr>\n",
       "    <tr>\n",
       "      <th>1</th>\n",
       "      <td>Project Financing Data:</td>\n",
       "      <td>None</td>\n",
       "      <td>None</td>\n",
       "      <td>None</td>\n",
       "      <td>None</td>\n",
       "      <td>None</td>\n",
       "      <td>None</td>\n",
       "      <td>None</td>\n",
       "      <td>None</td>\n",
       "      <td>None</td>\n",
       "      <td>None</td>\n",
       "      <td>None</td>\n",
       "      <td>None</td>\n",
       "    </tr>\n",
       "    <tr>\n",
       "      <th>2</th>\n",
       "      <td>[ ] Loan [ ] Credit [ ] Grant [ ] Guarantee [X...</td>\n",
       "      <td>None</td>\n",
       "      <td>None</td>\n",
       "      <td>None</td>\n",
       "      <td>None</td>\n",
       "      <td>None</td>\n",
       "      <td>None</td>\n",
       "      <td>None</td>\n",
       "      <td>None</td>\n",
       "      <td>None</td>\n",
       "      <td>None</td>\n",
       "      <td>None</td>\n",
       "      <td>None</td>\n",
       "    </tr>\n",
       "    <tr>\n",
       "      <th>3</th>\n",
       "      <td>Financing Plan (USDm.)</td>\n",
       "      <td>None</td>\n",
       "      <td>None</td>\n",
       "      <td>None</td>\n",
       "      <td>None</td>\n",
       "      <td>None</td>\n",
       "      <td>None</td>\n",
       "      <td>None</td>\n",
       "      <td>None</td>\n",
       "      <td>None</td>\n",
       "      <td>None</td>\n",
       "      <td>None</td>\n",
       "      <td>None</td>\n",
       "    </tr>\n",
       "    <tr>\n",
       "      <th>4</th>\n",
       "      <td>Source</td>\n",
       "      <td>None</td>\n",
       "      <td>None</td>\n",
       "      <td>None</td>\n",
       "      <td>None</td>\n",
       "      <td>Local</td>\n",
       "      <td>None</td>\n",
       "      <td>None</td>\n",
       "      <td>Foreign</td>\n",
       "      <td>None</td>\n",
       "      <td>None</td>\n",
       "      <td>Total</td>\n",
       "      <td>None</td>\n",
       "    </tr>\n",
       "    <tr>\n",
       "      <th>5</th>\n",
       "      <td>Spanish Carbon Fund (SCF)\\nBio Carbon Fund (BC...</td>\n",
       "      <td>None</td>\n",
       "      <td>None</td>\n",
       "      <td>None</td>\n",
       "      <td>None</td>\n",
       "      <td>8,735,000</td>\n",
       "      <td>None</td>\n",
       "      <td>None</td>\n",
       "      <td>16,663,211\\n1,215,000\\n105,130,000</td>\n",
       "      <td>None</td>\n",
       "      <td>None</td>\n",
       "      <td>16,663,211\\n1,215,000\\n113,865,000</td>\n",
       "      <td>None</td>\n",
       "    </tr>\n",
       "    <tr>\n",
       "      <th>6</th>\n",
       "      <td>TOTAL</td>\n",
       "      <td>None</td>\n",
       "      <td>None</td>\n",
       "      <td>None</td>\n",
       "      <td>None</td>\n",
       "      <td>8,735,000</td>\n",
       "      <td>None</td>\n",
       "      <td>None</td>\n",
       "      <td>123,008,211</td>\n",
       "      <td>None</td>\n",
       "      <td>None</td>\n",
       "      <td>131,743,211</td>\n",
       "      <td>None</td>\n",
       "    </tr>\n",
       "    <tr>\n",
       "      <th>7</th>\n",
       "      <td>Responsible Agency: Comisión Federal de Electr...</td>\n",
       "      <td>None</td>\n",
       "      <td>None</td>\n",
       "      <td>None</td>\n",
       "      <td>None</td>\n",
       "      <td>None</td>\n",
       "      <td>None</td>\n",
       "      <td>None</td>\n",
       "      <td>None</td>\n",
       "      <td>None</td>\n",
       "      <td>None</td>\n",
       "      <td>None</td>\n",
       "      <td>None</td>\n",
       "    </tr>\n",
       "    <tr>\n",
       "      <th>8</th>\n",
       "      <td>Estimated payments (Bank FY/USD)\\nThe Bank pla...</td>\n",
       "      <td>None</td>\n",
       "      <td>None</td>\n",
       "      <td>None</td>\n",
       "      <td>None</td>\n",
       "      <td>None</td>\n",
       "      <td>None</td>\n",
       "      <td>None</td>\n",
       "      <td>None</td>\n",
       "      <td>None</td>\n",
       "      <td>None</td>\n",
       "      <td>None</td>\n",
       "      <td>None</td>\n",
       "    </tr>\n",
       "    <tr>\n",
       "      <th>9</th>\n",
       "      <td>FY/EUR</td>\n",
       "      <td>2007</td>\n",
       "      <td>2008</td>\n",
       "      <td>2009</td>\n",
       "      <td>2010</td>\n",
       "      <td>None</td>\n",
       "      <td>2011</td>\n",
       "      <td>None</td>\n",
       "      <td>None</td>\n",
       "      <td>2012</td>\n",
       "      <td>2013</td>\n",
       "      <td>None</td>\n",
       "      <td>2014</td>\n",
       "    </tr>\n",
       "    <tr>\n",
       "      <th>10</th>\n",
       "      <td>Annual</td>\n",
       "      <td>1,625,821</td>\n",
       "      <td>1,625,821</td>\n",
       "      <td>1,625,821</td>\n",
       "      <td>1,625,821</td>\n",
       "      <td>None</td>\n",
       "      <td>1,625,821</td>\n",
       "      <td>None</td>\n",
       "      <td>None</td>\n",
       "      <td>1,625,821</td>\n",
       "      <td>1,625,821</td>\n",
       "      <td>None</td>\n",
       "      <td>1,625,821</td>\n",
       "    </tr>\n",
       "    <tr>\n",
       "      <th>11</th>\n",
       "      <td>Cumulative</td>\n",
       "      <td>1,625,821</td>\n",
       "      <td>3,251,642</td>\n",
       "      <td>4,877,463</td>\n",
       "      <td>6,503,284</td>\n",
       "      <td>None</td>\n",
       "      <td>8,129,106</td>\n",
       "      <td>None</td>\n",
       "      <td>None</td>\n",
       "      <td>9,754,927</td>\n",
       "      <td>11,380,748</td>\n",
       "      <td>None</td>\n",
       "      <td>13,006,569</td>\n",
       "    </tr>\n",
       "    <tr>\n",
       "      <th>12</th>\n",
       "      <td>FY/EUR</td>\n",
       "      <td>2015</td>\n",
       "      <td>2016</td>\n",
       "      <td>2017</td>\n",
       "      <td>2018</td>\n",
       "      <td>None</td>\n",
       "      <td>2019</td>\n",
       "      <td>None</td>\n",
       "      <td>None</td>\n",
       "      <td></td>\n",
       "      <td></td>\n",
       "      <td>None</td>\n",
       "      <td></td>\n",
       "    </tr>\n",
       "    <tr>\n",
       "      <th>13</th>\n",
       "      <td>Annual</td>\n",
       "      <td>1,625,821</td>\n",
       "      <td>1,625,821</td>\n",
       "      <td>405,000</td>\n",
       "      <td>405,000</td>\n",
       "      <td>None</td>\n",
       "      <td>405,000</td>\n",
       "      <td>None</td>\n",
       "      <td>None</td>\n",
       "      <td></td>\n",
       "      <td></td>\n",
       "      <td>None</td>\n",
       "      <td></td>\n",
       "    </tr>\n",
       "    <tr>\n",
       "      <th>14</th>\n",
       "      <td>Cumulative</td>\n",
       "      <td>14,632,390</td>\n",
       "      <td>16,258,211</td>\n",
       "      <td>16,663,211</td>\n",
       "      <td>17,068,211</td>\n",
       "      <td>None</td>\n",
       "      <td>17,473,211</td>\n",
       "      <td>None</td>\n",
       "      <td>None</td>\n",
       "      <td></td>\n",
       "      <td></td>\n",
       "      <td>None</td>\n",
       "      <td></td>\n",
       "    </tr>\n",
       "    <tr>\n",
       "      <th>15</th>\n",
       "      <td>Project implementation period: 2007–2019 (this...</td>\n",
       "      <td>None</td>\n",
       "      <td>None</td>\n",
       "      <td>None</td>\n",
       "      <td>None</td>\n",
       "      <td>None</td>\n",
       "      <td>None</td>\n",
       "      <td>None</td>\n",
       "      <td>None</td>\n",
       "      <td>None</td>\n",
       "      <td>None</td>\n",
       "      <td>None</td>\n",
       "      <td>None</td>\n",
       "    </tr>\n",
       "    <tr>\n",
       "      <th>16</th>\n",
       "      <td>Does the project depart from the CAS in conten...</td>\n",
       "      <td>None</td>\n",
       "      <td>None</td>\n",
       "      <td>None</td>\n",
       "      <td>None</td>\n",
       "      <td>None</td>\n",
       "      <td>None</td>\n",
       "      <td>○ Yes ● No</td>\n",
       "      <td>None</td>\n",
       "      <td>None</td>\n",
       "      <td>None</td>\n",
       "      <td>None</td>\n",
       "      <td>None</td>\n",
       "    </tr>\n",
       "    <tr>\n",
       "      <th>17</th>\n",
       "      <td>Does the project require any exceptions from B...</td>\n",
       "      <td>None</td>\n",
       "      <td>None</td>\n",
       "      <td>None</td>\n",
       "      <td>None</td>\n",
       "      <td>None</td>\n",
       "      <td>None</td>\n",
       "      <td>○ Yes ● No\\n○ Yes ○No\\n○ Yes ● No</td>\n",
       "      <td>None</td>\n",
       "      <td>None</td>\n",
       "      <td>None</td>\n",
       "      <td>None</td>\n",
       "      <td>None</td>\n",
       "    </tr>\n",
       "  </tbody>\n",
       "</table>\n",
       "</div>"
      ],
      "text/plain": [
       "                                                   0           1           2   \\\n",
       "0   Date: April 24, 2006\\nCountry Director: Isabel...        None        None   \n",
       "1                             Project Financing Data:        None        None   \n",
       "2   [ ] Loan [ ] Credit [ ] Grant [ ] Guarantee [X...        None        None   \n",
       "3                              Financing Plan (USDm.)        None        None   \n",
       "4                                              Source        None        None   \n",
       "5   Spanish Carbon Fund (SCF)\\nBio Carbon Fund (BC...        None        None   \n",
       "6                                               TOTAL        None        None   \n",
       "7   Responsible Agency: Comisión Federal de Electr...        None        None   \n",
       "8   Estimated payments (Bank FY/USD)\\nThe Bank pla...        None        None   \n",
       "9                                              FY/EUR        2007        2008   \n",
       "10                                             Annual   1,625,821   1,625,821   \n",
       "11                                         Cumulative   1,625,821   3,251,642   \n",
       "12                                             FY/EUR        2015        2016   \n",
       "13                                             Annual   1,625,821   1,625,821   \n",
       "14                                         Cumulative  14,632,390  16,258,211   \n",
       "15  Project implementation period: 2007–2019 (this...        None        None   \n",
       "16  Does the project depart from the CAS in conten...        None        None   \n",
       "17  Does the project require any exceptions from B...        None        None   \n",
       "\n",
       "            3           4                                                  5   \\\n",
       "0         None        None  Team Leader: Demetrios Papathanasiou\\nSectors:...   \n",
       "1         None        None                                               None   \n",
       "2         None        None                                               None   \n",
       "3         None        None                                               None   \n",
       "4         None        None                                              Local   \n",
       "5         None        None                                          8,735,000   \n",
       "6         None        None                                          8,735,000   \n",
       "7         None        None                                               None   \n",
       "8         None        None                                               None   \n",
       "9         2009        2010                                               None   \n",
       "10   1,625,821   1,625,821                                               None   \n",
       "11   4,877,463   6,503,284                                               None   \n",
       "12        2017        2018                                               None   \n",
       "13     405,000     405,000                                               None   \n",
       "14  16,663,211  17,068,211                                               None   \n",
       "15        None        None                                               None   \n",
       "16        None        None                                               None   \n",
       "17        None        None                                               None   \n",
       "\n",
       "            6                                  7   \\\n",
       "0         None                               None   \n",
       "1         None                               None   \n",
       "2         None                               None   \n",
       "3         None                               None   \n",
       "4         None                               None   \n",
       "5         None                               None   \n",
       "6         None                               None   \n",
       "7         None                               None   \n",
       "8         None                               None   \n",
       "9         2011                               None   \n",
       "10   1,625,821                               None   \n",
       "11   8,129,106                               None   \n",
       "12        2019                               None   \n",
       "13     405,000                               None   \n",
       "14  17,473,211                               None   \n",
       "15        None                               None   \n",
       "16        None                         ○ Yes ● No   \n",
       "17        None  ○ Yes ● No\\n○ Yes ○No\\n○ Yes ● No   \n",
       "\n",
       "                                    8          9           10  \\\n",
       "0                                 None       None        None   \n",
       "1                                 None       None        None   \n",
       "2                                 None       None        None   \n",
       "3                                 None       None        None   \n",
       "4                              Foreign       None        None   \n",
       "5   16,663,211\\n1,215,000\\n105,130,000       None        None   \n",
       "6                          123,008,211       None        None   \n",
       "7                                 None       None        None   \n",
       "8                                 None       None        None   \n",
       "9                                 None       2012        2013   \n",
       "10                                None  1,625,821   1,625,821   \n",
       "11                                None  9,754,927  11,380,748   \n",
       "12                                None                          \n",
       "13                                None                          \n",
       "14                                None                          \n",
       "15                                None       None        None   \n",
       "16                                None       None        None   \n",
       "17                                None       None        None   \n",
       "\n",
       "                                    11          12  \n",
       "0                                 None        None  \n",
       "1                                 None        None  \n",
       "2                                 None        None  \n",
       "3                                 None        None  \n",
       "4                                Total        None  \n",
       "5   16,663,211\\n1,215,000\\n113,865,000        None  \n",
       "6                          131,743,211        None  \n",
       "7                                 None        None  \n",
       "8                                 None        None  \n",
       "9                                 None        2014  \n",
       "10                                None   1,625,821  \n",
       "11                                None  13,006,569  \n",
       "12                                None              \n",
       "13                                None              \n",
       "14                                None              \n",
       "15                                None        None  \n",
       "16                                None        None  \n",
       "17                                None        None  "
      ]
     },
     "execution_count": 113,
     "metadata": {},
     "output_type": "execute_result"
    }
   ],
   "source": [
    "pd.DataFrame(table)"
   ]
  },
  {
   "cell_type": "code",
   "execution_count": 115,
   "id": "a9e19563",
   "metadata": {},
   "outputs": [],
   "source": [
    "from langchain_community.document_loaders import PyPDFLoader\n",
    "\n",
    "\n",
    "pdf_loader = PyPDFLoader(pdf_fname)\n",
    "documents = pdf_loader.load()"
   ]
  },
  {
   "cell_type": "code",
   "execution_count": 116,
   "id": "12d72ee1",
   "metadata": {},
   "outputs": [
    {
     "data": {
      "text/plain": [
       "Document(metadata={'producer': 'Microsoft® Office Word 2007 / PDF PT 3.40p (pdf-tools.com) / PDF PT 3.40p (pdf-tools.com)', 'creator': 'Microsoft® Office Word 2007', 'creationdate': '2010-02-18T23:06:09+00:00', 'author': 'World Bank Group', 'moddate': 'D:20160713154630', 'title': 'World Bank Document', 'source': '../test.pdf', 'total_pages': 60, 'page': 3, 'page_label': '4'}, page_content='MEXICO \\nWind Umbrella (La Venta II) \\n \\nPROJECT APPRAISAL DOCUMENT \\nLATIN AMERICA AND CARIBBEAN \\nLCSEG \\n \\nDate: April 24, 2006     \\nCountry Director: Isabel Guerrero \\nSector Manager: Susan Goldmark \\nProject ID: P080104 \\nLending Instrument: World Bank Spanish Carbon \\nFund \\nTeam Leader: Demetrios Papathanasiou        \\nSectors: Renewable Energy (100%) \\nEnvironmental Screening Category: B \\nThemes: Climate Change (P); Pollution management \\nand environmental health (S) \\nProject Financing Data: \\n[ ] Loan     [ ] Credit     [ ] Grant     [ ] Guarantee     [X] Other: Carbon Finance \\nFor Loans/Credits/Others: The project does not involve Bank financing. Total Bank Carbon Financing through \\nthe purchase of CERs for an amount of USD 17.5 Million.  \\nFinancing Plan (USDm.) \\nSource Local Foreign Total \\nSpanish Carbon Fund (SCF) \\nBio Carbon Fund (BCF) \\nProject Sponsor (CFE) \\n \\n \\n8,735,000 \\n16,663,211 \\n1,215,000 \\n105,130,000 \\n16,663,211 \\n1,215,000 \\n113,865,000 \\nTOTAL 8,735,000 123,008,211 131,743,211 \\nResponsible Agency: Comisión Federal de Electricidad (CFE) \\nEstimated payments (Bank FY/USD) \\nThe Bank plans to purchase Emissions Reductions (ERs) for an amount of EUR 17.5 Million. Indicatively, this \\ncould lead to payments as in the following schedule:  \\nFY/EUR 2007 2008 2009 2010 2011 2012 2013 2014 \\nAnnual \\n1,625,821 1,625,821 1,625,821 1,625,821 1,625,821 1,625,821 1,625,821 1,625,821 \\nCumulative 1,625,821 3,251,642  \\n \\n4,877,463  \\n \\n6,503,284  \\n \\n8,129,106  \\n \\n9,754,927  \\n \\n11,380,748  \\n \\n13,006,569  \\n \\nFY/EUR 2015 2016 2017 2018 2019    \\nAnnual 1,625,821 1,625,821 405,000 405,000 405,000    \\nCumulative 14,632,390  \\n \\n16,258,211  \\n \\n16,663,211  \\n \\n17,068,211  \\n \\n17,473,211  \\n \\n   \\nProject implementation period: 2007–2019 (this is the period for the duration of the ERPA (Emissions Reduction \\nPurchase Agreement) with the SCF (2007-2016) and the BCF (2017-2019). However, the initial crediting period \\nis 7 years, renewable for another two 7 year-periods.  \\nExpected effectiveness date: January 2007 \\nExpected closing date: December 2019 \\nDoes the project depart from the CAS in content or other significant \\nrespects?  \\n○ Yes    ● No \\n    \\nDoes the project require any exceptions from Bank policies? \\nHave these been approved by Bank management? \\nIs approval for any policy exception sought from the Board? \\n○ Yes    ● No \\n○ Yes    ○No \\n○ Yes    ● No')"
      ]
     },
     "execution_count": 116,
     "metadata": {},
     "output_type": "execute_result"
    }
   ],
   "source": [
    "documents[3]"
   ]
  },
  {
   "cell_type": "code",
   "execution_count": null,
   "id": "92febc9b",
   "metadata": {},
   "outputs": [],
   "source": []
  }
 ],
 "metadata": {
  "kernelspec": {
   "display_name": "world-bank-kg",
   "language": "python",
   "name": "python3"
  },
  "language_info": {
   "codemirror_mode": {
    "name": "ipython",
    "version": 3
   },
   "file_extension": ".py",
   "mimetype": "text/x-python",
   "name": "python",
   "nbconvert_exporter": "python",
   "pygments_lexer": "ipython3",
   "version": "3.12.3"
  }
 },
 "nbformat": 4,
 "nbformat_minor": 5
}
